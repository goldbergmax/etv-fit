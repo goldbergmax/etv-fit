{
 "cells": [
  {
   "cell_type": "code",
   "execution_count": null,
   "metadata": {},
   "outputs": [],
   "source": [
    "import numpy as np\n",
    "import pandas as pd\n",
    "from chisq import EclipseFit\n",
    "from etv_plots import nice_units, pretty_print, Plotter, ecl_time_to_etv, lsq_fit\n",
    "import emcee\n",
    "import corner\n",
    "%matplotlib inline\n",
    "import matplotlib.pyplot as plt\n",
    "plt.rc('lines', linewidth=2)"
   ]
  },
  {
   "cell_type": "code",
   "execution_count": null,
   "metadata": {},
   "outputs": [],
   "source": [
    "system = '5095'"
   ]
  },
  {
   "cell_type": "code",
   "execution_count": null,
   "metadata": {},
   "outputs": [],
   "source": [
    "# see spherical triangle identities, e.g. in Appendix D of Borkovits (2015)\n",
    "def im(i1, i2, Omega2):\n",
    "    return np.arccos(np.cos(i1)*np.cos(i2) + np.sin(i1)*np.sin(i2)*np.cos(Omega2))\n",
    "\n",
    "def n1(i1, i2, Omega2):\n",
    "    n1 = np.arccos((np.cos(i2) - np.cos(i1)*np.cos(im(i1, i2, Omega2)))/(np.sin(i1)*np.sin(im(i1, i2, Omega2))))\n",
    "    return np.where(np.sin(Omega2) < 0, n1, np.pi - n1)\n",
    "\n",
    "def g1(i1, i2, Omega2, omega1):\n",
    "    g1 = omega1 - n1(i1, i2, Omega2)\n",
    "    return np.where(np.sin(Omega2) > 0, g1, g1 + np.pi)\n",
    "\n",
    "def h(im, g1, e1):\n",
    "    return np.cos(im)**2 - e1**2/2*np.sin(im)**2 * (3 - 5*np.cos(2*g1))\n",
    "\n",
    "def k_sq(e1, h):\n",
    "    return 5*e1**2/(1 - e1**2)*(1 - h)/(h + 4*e1**2)\n",
    "\n",
    "print(np.degrees(g1(np.radians(85.571), np.radians(160.6), np.radians(77.2), np.radians(108.9))))\n",
    "print(np.degrees(im(np.radians(85.571), np.radians(160.6), np.radians(77.2))))"
   ]
  },
  {
   "cell_type": "markdown",
   "metadata": {},
   "source": [
    "# Best Fit"
   ]
  },
  {
   "cell_type": "code",
   "execution_count": null,
   "metadata": {
    "scrolled": false
   },
   "outputs": [],
   "source": [
    "chain = np.load('mcmc_out/' + system + '_chains_1.npy')\n",
    "prob = np.load('mcmc_out/' + system + '_probs_1.npy')\n",
    "ndim = chain.shape[-1]\n",
    "good_walkers = -2*prob[:, -1] < 300\n",
    "print('Good walkers: {}/{}'.format(np.sum(good_walkers), chain.shape[0]))\n",
    "best_indx = prob.flatten()[np.nonzero(prob.flatten())].argmax()\n",
    "print('Best chi-squared:', -2*prob.flatten()[best_indx])\n",
    "x = chain.reshape(-1, ndim)[best_indx].copy()\n",
    "print('\\nBest Fit')\n",
    "print(pretty_print(x))\n",
    "y = np.median(chain.reshape(-1, ndim), axis=0)\n",
    "print('\\nMedian')\n",
    "print(pretty_print(y))"
   ]
  },
  {
   "cell_type": "code",
   "execution_count": null,
   "metadata": {
    "scrolled": false
   },
   "outputs": [],
   "source": [
    "fit = EclipseFit(system)\n",
    "ecl_model, rv_model = fit.get_residuals(x, safe=False)\n",
    "dbdt, b0 = fit.impact_regression(ecl_model)\n",
    "print(b0, dbdt)\n",
    "#print(-2*fit.evaluate(x))\n",
    "#plt.plot(ecl_model['A']['model_t'], b0['A'] + dbdt['A']*ecl_model['A']['model_t'])\n",
    "#plt.plot(ecl_model['A']['model_t'], ecl_model['A']['model_b'])\n",
    "#ecl_model['A']"
   ]
  },
  {
   "cell_type": "code",
   "execution_count": null,
   "metadata": {
    "scrolled": false
   },
   "outputs": [],
   "source": [
    "#import cProfile\n",
    "#cProfile.run('fit.get_residuals(x)', sort='time')"
   ]
  },
  {
   "cell_type": "markdown",
   "metadata": {},
   "source": [
    "# Data"
   ]
  },
  {
   "cell_type": "code",
   "execution_count": null,
   "metadata": {},
   "outputs": [],
   "source": [
    "plt.rc('font', size=16)\n",
    "plot = Plotter(system)"
   ]
  },
  {
   "cell_type": "code",
   "execution_count": null,
   "metadata": {
    "scrolled": false
   },
   "outputs": [],
   "source": [
    "fig, ax = plt.subplots(figsize=(12,8))\n",
    "T0, P = lsq_fit(ecl_model['A']['data_t'])\n",
    "ax.errorbar(ecl_model['A']['data_t'], 86400*ecl_time_to_etv(ecl_model['A']['data_t'], P, T0), \n",
    "            86400*ecl_model['A']['data_err'], linestyle='None', color='k', marker='o')\n",
    "ax.set_xlabel('Time (BJD-2454900)', fontsize=20)\n",
    "ax.set_ylabel('O-C (seconds)', fontsize=20)\n",
    "#plt.savefig('kic5095_etv_raw_unfolded.png', dpi='figure')"
   ]
  },
  {
   "cell_type": "code",
   "execution_count": null,
   "metadata": {},
   "outputs": [],
   "source": [
    "fig, ax = plt.subplots(figsize=(12,8))\n",
    "T0, P = lsq_fit(ecl_model['A']['data_t'])\n",
    "ax.errorbar(np.remainder(ecl_model['A']['data_t'] - 95.923, 235.9)/235.9, \n",
    "            86400*ecl_time_to_etv(ecl_model['A']['data_t'], P, T0), \n",
    "            86400*ecl_model['A']['data_err'], linestyle='None', color='k', marker='o')\n",
    "ax.set_xlabel('Outer Orbital Phase', fontsize=20)\n",
    "ax.set_ylabel('O-C (seconds)', fontsize=20)\n",
    "#plt.savefig('kic5095_etv_raw_folded.png', dpi='figure')"
   ]
  },
  {
   "cell_type": "code",
   "execution_count": null,
   "metadata": {},
   "outputs": [],
   "source": [
    "if len(plot.ecl_stars) == 2:\n",
    "    plot.etv_together(x)"
   ]
  },
  {
   "cell_type": "markdown",
   "metadata": {},
   "source": [
    "# Model Fit"
   ]
  },
  {
   "cell_type": "code",
   "execution_count": null,
   "metadata": {
    "scrolled": false
   },
   "outputs": [],
   "source": [
    "plot.etv_residuals(x, 'A', phased=True)\n",
    "#plt.savefig('etv_residuals_phased.png', dpi='figure')\n",
    "plot.etv_residuals(x, 'A', phased=False)\n",
    "#plt.savefig('etv_residuals_unphased.png', dpi='figure')\n",
    "try:\n",
    "    plot.etv_residuals(x, 'B', phased=True)\n",
    "    plot.etv_residuals(x, 'B', phased=False)\n",
    "except:\n",
    "    pass"
   ]
  },
  {
   "cell_type": "code",
   "execution_count": null,
   "metadata": {
    "scrolled": false
   },
   "outputs": [],
   "source": [
    "plot.rv_residuals(x, phased=True)\n",
    "plot.rv_residuals(x, phased=False)\n",
    "#plt.savefig('rv_residuals.eps', dpi='figure')\n",
    "plot.impact_fit_quality(x)"
   ]
  },
  {
   "cell_type": "markdown",
   "metadata": {},
   "source": [
    "# TESS Eclipses"
   ]
  },
  {
   "cell_type": "code",
   "execution_count": null,
   "metadata": {},
   "outputs": [],
   "source": [
    "plot_tess = Plotter(system)\n",
    "tess_points = pd.DataFrame([[3789.25839, 0.00063], [3807.86757, 0.00067]], index=[203, 204], columns=['data_t', 'data_err'])\n",
    "plot_tess.ecl_data['A'] = plot_tess.ecl_data['A'].append(tess_points)\n",
    "plot_tess.etv_residuals(x, 'A', phased=True, ecl_max=4000)\n",
    "plot_tess.etv_residuals(x, 'A', phased=False, ecl_max=4000)"
   ]
  },
  {
   "cell_type": "markdown",
   "metadata": {},
   "source": [
    "# MCMC Diagnostics"
   ]
  },
  {
   "cell_type": "code",
   "execution_count": null,
   "metadata": {
    "scrolled": false
   },
   "outputs": [],
   "source": [
    "plt.plot(nice_units(chain)[...,0].T);\n",
    "plt.xlabel('Generation')"
   ]
  },
  {
   "cell_type": "code",
   "execution_count": null,
   "metadata": {
    "scrolled": false
   },
   "outputs": [],
   "source": [
    "plt.plot(-2*prob.T)\n",
    "plt.yscale('log')\n",
    "plt.xlabel('Generation'); plt.ylabel('$\\chi^2$')"
   ]
  },
  {
   "cell_type": "code",
   "execution_count": null,
   "metadata": {},
   "outputs": [],
   "source": [
    "print(-2*prob[:,-1])"
   ]
  },
  {
   "cell_type": "code",
   "execution_count": null,
   "metadata": {},
   "outputs": [],
   "source": [
    "dof = sum(map(len, plot.ecl_data.values())) + sum(map(len, plot.rv_data.values()))\n",
    "print('Reduced chi^2: {:.4f}'.format(-2*prob.flatten()[best_indx]/dof))"
   ]
  },
  {
   "cell_type": "code",
   "execution_count": null,
   "metadata": {},
   "outputs": [],
   "source": [
    "emcee.autocorr.integrated_time(chain[3,:,1])"
   ]
  },
  {
   "cell_type": "code",
   "execution_count": null,
   "metadata": {
    "scrolled": false
   },
   "outputs": [],
   "source": [
    "if system == '5095':\n",
    "    labels = ['$P_1$', '$T_{01}$', '$i_1$', '$e_1$', '$\\omega_1$',\n",
    "              '$P_2$', '$T_{p2}$', '$e_2\\cos\\omega_2$', '$e_2\\sin\\omega_2$', '$i_2$', '$\\Omega_2$',\n",
    "              '$M_A$', '$M_B$', '$M_p$', '$\\gamma_{NOT}$', '$\\gamma_{CAHA}$']\n",
    "corner.corner((nice_units(chain[:, 5000:, :].reshape(-1, 17)).T[chain.reshape(-1, 17).std(axis=0) > 1e-10]).T,\n",
    "              labels=labels)\n",
    "#plt.savefig('5095_corner.eps', dpi='figure')"
   ]
  },
  {
   "cell_type": "markdown",
   "metadata": {},
   "source": [
    "# Long term evolution"
   ]
  },
  {
   "cell_type": "code",
   "execution_count": null,
   "metadata": {},
   "outputs": [],
   "source": [
    "sim = plot.set_up_sim(x)\n",
    "N = 1000\n",
    "prec = np.zeros((N,6))\n",
    "ts = np.linspace(0, 1600, N)\n",
    "for i in range(N):\n",
    "    sim.integrate(ts[i])\n",
    "    prec[i,0] = ts[i]\n",
    "    prec[i,1] = sim.particles[1].inc\n",
    "    prec[i,2] = sim.particles[2].a\n",
    "    prec[i,3] = sim.particles[2].e\n",
    "    prec[i,4] = sim.particles[1].omega\n",
    "#plt.plot(prec[...,0], np.degrees(prec[...,1]))\n",
    "prec[...,5] = prec[...,2]*(1 - prec[...,3]**2)/(1 + prec[...,3]*np.sin(prec[...,4])) * np.cos(prec[...,1])/(1.2*0.00465)\n",
    "plt.plot(prec[...,0], np.degrees(prec[...,4]))\n",
    "#plt.ylabel('Eccentricity'); plt.xlabel('Time')"
   ]
  },
  {
   "cell_type": "code",
   "execution_count": null,
   "metadata": {},
   "outputs": [],
   "source": [
    "sim = plot.set_up_sim(x)\n",
    "N = 1000\n",
    "prec = np.zeros((N,5))\n",
    "ts = np.linspace(0, 300000, N)\n",
    "for i in range(N):\n",
    "    sim.integrate(ts[i])\n",
    "    prec[i,0] = ts[i]\n",
    "    prec[i,1] = sim.particles[1].inc\n",
    "    prec[i,2] = sim.particles[2].inc\n",
    "    prec[i,3] = sim.particles[2].Omega - sim.particles[1].Omega\n",
    "    prec[i,4] = sim.particles[1].omega"
   ]
  },
  {
   "cell_type": "code",
   "execution_count": null,
   "metadata": {},
   "outputs": [],
   "source": [
    "fig, ax1 = plt.subplots()\n",
    "ax1.plot(prec[...,0]/365.25, np.degrees(im(*prec[...,1:4].T)), color='k')\n",
    "ax1.plot(prec[...,0]/365.25, np.degrees(g1(*prec[...,1:5].T)), color='r')"
   ]
  },
  {
   "cell_type": "code",
   "execution_count": null,
   "metadata": {
    "scrolled": false
   },
   "outputs": [],
   "source": [
    "fig, ax = plt.subplots(subplot_kw=dict(projection='polar'), figsize=(16,9))\n",
    "azimuths = np.radians(np.linspace(0, 360, 180))\n",
    "zeniths = np.linspace(0,180,180)\n",
    "r, theta = np.meshgrid(zeniths, azimuths)\n",
    "values = h(np.radians(r), theta, x[3])\n",
    "ax.contour(theta, r, values, 15)\n",
    "ax.plot(np.linspace(0, 2*np.pi, 100), 90.0*np.ones(100), color='k', linestyle='--')\n",
    "ax.set_yticklabels([])\n",
    "ax.set_ylim(0, 180)\n",
    "ax.grid(False)\n",
    "mask = prob < 1000\n",
    "#ax.scatter(g1(chain[...,2], chain[...,9], chain[...,10], chain[...,4])[mask].flatten(), \n",
    "#           np.degrees(im(chain[...,2], chain[...,9], chain[...,10]))[mask].flatten(), \n",
    "#           marker='.', color='k')\n",
    "plt.plot(g1(*prec[...,1:5].T), np.degrees(im(*prec[...,1:4].T)), c='k')\n",
    "#plt.plot(np.linspace(0, 2*np.pi, 100), np.array(100*[37.76]))\n",
    "#plt.savefig('fl level curves.png', dpi='figure')"
   ]
  },
  {
   "cell_type": "markdown",
   "metadata": {},
   "source": [
    "# Derived system quantities"
   ]
  },
  {
   "cell_type": "code",
   "execution_count": null,
   "metadata": {
    "scrolled": false
   },
   "outputs": [],
   "source": [
    "plt.hist(np.degrees(im(chain[:,5000:,2], chain[:,5000:,9], chain[:,5000:,10])).flatten(), \n",
    "         bins=20, density=True, color='0.2')\n",
    "plt.xlabel('Mutual Inclination ($^\\circ$)', fontsize=20)\n",
    "#plt.savefig('im_constraint.png', dpi='figure', bbox_inches=\"tight\")\n",
    "i_m_95_upper = np.percentile(np.degrees(im(chain[:,5000:,2], chain[:,5000:,9], chain[:,5000:,10])).flatten(), 95)\n",
    "print('95% upper limit of mutual inclination: {:.3f} deg'.format(i_m_95_upper))"
   ]
  },
  {
   "cell_type": "code",
   "execution_count": null,
   "metadata": {},
   "outputs": [],
   "source": [
    "plt.hist(np.degrees(g1(chain[:,5000:,2], chain[:,5000:,9], chain[:,5000:,10], chain[:,5000:,4]).flatten()), \n",
    "         bins=20, density=True, color='0.2')\n",
    "plt.xlabel('Dynamical Argument of Periastron')"
   ]
  },
  {
   "cell_type": "code",
   "execution_count": null,
   "metadata": {},
   "outputs": [],
   "source": [
    "def stab_criterion(mu, e):\n",
    "    return 1.6 + 5.1 * e - 2.22 * e**2 + 4.12 * mu - 4.27 * e * mu - 5.09 * mu**2 + 4.61 * e**2 * mu**2\n",
    "\n",
    "def crit_radius(P1, P2, e, mA, mB):\n",
    "    mu = mB/(mA + mB)\n",
    "    return (P2/P1)**(2/3) / stab_criterion(mu, e)\n",
    "\n",
    "a_c = crit_radius(chain[...,0], chain[...,5], chain[...,3], chain[...,11], chain[...,12])\n",
    "plt.hist(a_c.flatten(), range=[1.45, 1.6], bins=30, color='k', density=True);\n",
    "plt.xlabel(r'$a_{planet}/a_c$')\n",
    "print('a_planet/a_c = {:.3f} ± {:.3f}'.format(a_c.mean(), a_c.std()))"
   ]
  },
  {
   "cell_type": "code",
   "execution_count": null,
   "metadata": {},
   "outputs": [],
   "source": [
    "from scipy.special import ellipk, ellipkinc\n",
    "\n",
    "def K(k_sq_):\n",
    "    return np.where(k_sq_ < 1, ellipk(k_sq_), ellipkinc(np.arcsin(1/np.sqrt(k_sq_)), k_sq_))\n",
    "\n",
    "# Farago & Laskar (2010) Eq. 2.32\n",
    "def prec_timescale(P1, P2, e1, e2, im, g1, mA, mB):\n",
    "    h_ = h(im, g1, e1)\n",
    "    k_sq_ = k_sq(e1, h_)\n",
    "    return 8/(3*np.pi) * (mA + mB)**2/(mA * mB) * (P2**7/P1**4)**(1/3) * K(k_sq_) * \\\n",
    "            (1 - e2**2)**2/np.sqrt((1 - e1**2) * (h_ + 4*e1**2))\n",
    "\n",
    "T_precs = prec_timescale(chain[...,0], chain[...,5], chain[...,3], \n",
    "                         np.sqrt(chain[...,7]**2 + chain[...,8]**2), \n",
    "                         im(chain[...,2], chain[...,9], chain[...,10]), \n",
    "                         g1(chain[...,2], chain[...,9], chain[...,10], chain[...,4]), \n",
    "                         chain[...,11], chain[...,12])\n",
    "plt.hist(T_precs[:,:5000].flatten()/365.25, bins=30, range=[T_precs.min()/365.25, 89], color='k', density=True)\n",
    "plt.xlabel('Precession timescale (years)')\n",
    "print('T_prec = {:.3f} ± {:.3f}'.format(T_precs.mean()/365.25, T_precs.std()/365.25))"
   ]
  },
  {
   "cell_type": "code",
   "execution_count": null,
   "metadata": {},
   "outputs": [],
   "source": [
    "# minimum mutual inclination to be guaranteed to transit\n",
    "\n",
    "R_A = 1.45*0.00465\n",
    "R_B = 1.34*0.00465\n",
    "G = 0.00029591220828559104\n",
    "\n",
    "delta = R_A + R_B\n",
    "\n",
    "a_bin = (G*(chain[...,11] + chain[...,12])*chain[...,0]/(4*np.pi**2))**(1/3)\n",
    "a_p = (G*(chain[...,11] + chain[...,12])*chain[...,5]/(4*np.pi**2))**(1/3)\n",
    "\n",
    "mu_A = chain[...,11]/(chain[...,11] + chain[...,12])\n",
    "mu_B = chain[...,12]/(chain[...,11] + chain[...,12])\n",
    "\n",
    "i_m_lim_A = delta*(1/a_bin - mu_A*1/a_p) - R_A/a_p\n",
    "i_m_lim_B = delta*(1/a_bin - mu_B*1/a_p) - R_B/a_p\n",
    "\n",
    "print('Minimum i_m to transit A: {:.2f} deg'.format(np.degrees(i_m_lim_A.mean())))\n",
    "print('Minimum i_m to transit B: {:.2f} deg'.format(np.degrees(i_m_lim_B.mean())))\n",
    "\n",
    "# probability of transit\n",
    "\n",
    "P_A = np.where(im(chain[...,2], chain[...,9], chain[...,10]) > i_m_lim_A, 1, (im(chain[...,2], chain[...,9], chain[...,10]) + R_A/a_p)/(delta*(1/a_bin - mu_B/a_p)))\n",
    "P_B = np.where(im(chain[...,2], chain[...,9], chain[...,10]) > i_m_lim_B, 1, (im(chain[...,2], chain[...,9], chain[...,10]) + R_B/a_p)/(delta*(1/a_bin - mu_A/a_p)))\n",
    "\n",
    "print('Probability of transiting A: {:.2f}%'.format(100*P_A.mean()))\n",
    "print('Probability of transiting B: {:.2f}%'.format(100*P_B.mean()))"
   ]
  },
  {
   "cell_type": "code",
   "execution_count": null,
   "metadata": {},
   "outputs": [],
   "source": [
    "# Gaia\n",
    "G = 2.959e-4\n",
    "a_reflex = chain[...,13]/(chain[...,11] + chain[...,12])**(2/3) * (G/(4*np.pi**2) * chain[...,5]**2)**(1/3)\n",
    "print('Reflex motion of binary: {:.5f} mas'.format(0.8216*a_reflex.mean()))\n",
    "\n",
    "# Direct imaging\n",
    "a_plan = (G*(chain[...,11] + chain[...,12])/(4*np.pi**2))**(1/3) * chain[...,5]**(2/3)\n",
    "print('Separation of planet from binary: {:.4} as'.format(0.8216/1000*a_plan.mean()))"
   ]
  },
  {
   "cell_type": "code",
   "execution_count": null,
   "metadata": {},
   "outputs": [],
   "source": [
    "plt.scatter(*(nice_units(chain[:, 3000:,:].reshape(-1, ndim))[...,11:13]).T, marker='.', s=1, alpha=0.01)\n",
    "L_tot = 4.66\n",
    "a = 3.5\n",
    "plt.plot(np.linspace(1.0, 1.4, 100), (L_tot - np.linspace(1.0, 1.4, 100)**a)**(1/a), color='k')\n",
    "plt.xlabel('$m_A$'); plt.ylabel('$m_B$');"
   ]
  },
  {
   "cell_type": "code",
   "execution_count": null,
   "metadata": {},
   "outputs": [],
   "source": [
    "plt.hist(((chain[:, 3000:,:].reshape(-1, ndim)[...,11:13])**a).sum(axis=1), bins=30)\n",
    "plt.xlabel('$L$ $(L_\\odot)$')"
   ]
  },
  {
   "cell_type": "code",
   "execution_count": null,
   "metadata": {},
   "outputs": [],
   "source": [
    "plt.hist((chain[:, 3000:,11]/chain[:,3000:,12]).flatten(), bins=30)\n",
    "plt.xlabel('Binary mass ratio');"
   ]
  },
  {
   "cell_type": "markdown",
   "metadata": {},
   "source": [
    "# Output for paper"
   ]
  },
  {
   "cell_type": "code",
   "execution_count": null,
   "metadata": {},
   "outputs": [],
   "source": [
    "burn_in = 5000\n",
    "flatchain = chain[:,burn_in:,:].reshape(-1, ndim)\n",
    "paper_chain = np.empty_like(flatchain)\n",
    "paper_chain[...,:2] = flatchain[...,:2] # P_1 and T_01\n",
    "paper_chain[...,2] = flatchain[...,3] # e_1\n",
    "paper_chain[...,3] = np.degrees(flatchain[...,2]) # i_1\n",
    "paper_chain[...,4] = np.degrees(flatchain[...,4]) # omega_1\n",
    "paper_chain[...,5:7] = flatchain[...,5:7] # P_2 and T_p2\n",
    "paper_chain[...,7] = np.sqrt(flatchain[...,7]**2 + flatchain[...,8]**2) # e_2\n",
    "paper_chain[...,8] = np.degrees(flatchain[...,9]) # i_2\n",
    "paper_chain[...,9] = np.degrees(np.arctan2(flatchain[...,8], flatchain[...,7])) # omega_2\n",
    "paper_chain[...,10] = np.degrees(flatchain[...,10]) # Omega_2\n",
    "paper_chain[...,11:13] = flatchain[...,11:13] # M_A and M_B\n",
    "paper_chain[...,13] = 1047.58*flatchain[...,13] # M_p\n",
    "paper_chain[...,14:] = flatchain[...,14:] # k_1, gamma(s)\n",
    "\n",
    "best_indx_paper = prob[:,5000:].flatten().argmax()"
   ]
  },
  {
   "cell_type": "code",
   "execution_count": null,
   "metadata": {},
   "outputs": [],
   "source": [
    "table = pd.DataFrame(columns=['Best fit', 'Median', 'Upper uncertainty', 'Lower uncertainty', 'Uncertainty'], \n",
    "                     index=['P_1', 'T_01', 'e_1', 'i_1', '\\omega_1', 'P_2', 'T_P2', \n",
    "                            'e_2', 'i_2', '\\omega_2', '\\Omega_2', 'M_A', 'M_B', 'm_p', 'k_2', '\\gamma_1', '\\gamma_2'])\n",
    "\n",
    "table['Best fit'] = paper_chain[best_indx_paper]\n",
    "table['Median'] = np.median(paper_chain, axis=0)\n",
    "table['Upper uncertainty'] = np.abs(np.percentile(paper_chain, 84.15, axis=0) - np.percentile(paper_chain, 50, axis=0))\n",
    "table['Lower uncertainty'] = np.abs(np.percentile(paper_chain, 15.85, axis=0) - np.percentile(paper_chain, 50, axis=0))\n",
    "table['Uncertainty'] = paper_chain.std(axis=0)\n",
    "table"
   ]
  },
  {
   "cell_type": "markdown",
   "metadata": {},
   "source": [
    "# Misc"
   ]
  },
  {
   "cell_type": "code",
   "execution_count": null,
   "metadata": {},
   "outputs": [],
   "source": [
    "plt.rc('font', size=14)\n",
    "chain_carmenes = np.load('5095_chains_carmenes.npy')\n",
    "prob_carmenes = np.load('5095_probs_carmenes.npy')\n",
    "chain_not = np.load('5095_chains_not.npy')\n",
    "prob_not = np.load('5095_probs_not.npy')\n",
    "fig, axs = plt.subplots(2, 2, figsize=(10,9))\n",
    "axs = axs.flatten()\n",
    "def double_hist(ax, par):\n",
    "    ax.hist(chain_carmenes[...,3000:,par].flatten(), bins=30, density=True, alpha=0.3, label='CARMENES')\n",
    "    ax.hist(chain_not[...,3000:,par].flatten(), bins=30, density=True, alpha=0.3, label='NOT')\n",
    "    ax.legend()\n",
    "double_hist(axs[0], 11)\n",
    "axs[0].set_xlabel('$M_A$ ($M_\\odot$)')\n",
    "double_hist(axs[1], 12)\n",
    "axs[1].set_xlabel('$M_B$ ($M_\\odot$)')\n",
    "double_hist(axs[2], 3)\n",
    "axs[2].set_xlabel('$e_1$')\n",
    "double_hist(axs[3], 4)\n",
    "axs[3].set_xlabel('$\\omega_1$ (rad)')"
   ]
  },
  {
   "cell_type": "code",
   "execution_count": null,
   "metadata": {},
   "outputs": [],
   "source": [
    "from etv import AnalyticETV\n",
    "from scipy.stats import linregress\n",
    "\n",
    "plt.figure(figsize=(14,8))\n",
    "ts = np.linspace(0, 1600, 1000)\n",
    "data = pd.read_csv('../data/KID5095269/koi509.tt.dan.db.try7.trans', \n",
    "                   header=None, delim_whitespace=True, index_col=0, names=['t', 'err'])\n",
    "data.index = data.index.astype(int)\n",
    "data.index = data.index + 41\n",
    "p, t0, _, _, _ = linregress(data.index, data['t'])\n",
    "data['etv'] = data['t'] - (p*data.index + t0)\n",
    "plt.errorbar(data['t'], 86400*data['etv'], 86400*data['err'], linestyle='None', marker='x', c='k')\n",
    "\n",
    "kic509 = AnalyticETV([18.61085, 66.86201, np.radians(81.35), 0.7057, np.radians(180+104.39),\n",
    "                      235.8796, 95.923, 0.092*np.cos(np.radians(123)), 0.092*np.sin(np.radians(123)), np.radians(74.14), np.radians(99.4),\n",
    "                      1.089, 1.037, 4.5/1047.5])\n",
    "plt.plot(ts, 86400*kic509.del_tot_prim(ts))\n"
   ]
  },
  {
   "cell_type": "code",
   "execution_count": null,
   "metadata": {},
   "outputs": [],
   "source": []
  }
 ],
 "metadata": {
  "kernelspec": {
   "display_name": "Python 3",
   "language": "python",
   "name": "python3"
  },
  "language_info": {
   "codemirror_mode": {
    "name": "ipython",
    "version": 3
   },
   "file_extension": ".py",
   "mimetype": "text/x-python",
   "name": "python",
   "nbconvert_exporter": "python",
   "pygments_lexer": "ipython3",
   "version": "3.7.5"
  }
 },
 "nbformat": 4,
 "nbformat_minor": 2
}
