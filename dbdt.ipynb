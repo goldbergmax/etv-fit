{
 "cells": [
  {
   "cell_type": "code",
   "execution_count": null,
   "metadata": {},
   "outputs": [],
   "source": [
    "%matplotlib inline\n",
    "import numpy as np\n",
    "import matplotlib.pyplot as plt\n",
    "import matplotlib.colors as colors\n",
    "from scipy.optimize import minimize, differential_evolution\n",
    "from chisq import EclipseFit\n",
    "from etv_plots import nice_units, pretty_print, Plotter, ecl_time_to_etv, lsq_fit"
   ]
  },
  {
   "cell_type": "code",
   "execution_count": null,
   "metadata": {},
   "outputs": [],
   "source": [
    "fit = EclipseFit('5095')"
   ]
  },
  {
   "cell_type": "code",
   "execution_count": null,
   "metadata": {},
   "outputs": [],
   "source": [
    "x = np.array([18.6108497, 66.8620090, np.radians(85.571), 0.486, np.radians(108.2), \n",
    "              239.49,  95.923, 3.762e-02, -4.031e-02, np.radians(83.46), np.radians(0.341), \n",
    "              1.0887, 1.0372, 4.58337407e-03, 0.0, 4.515, 77.5])"
   ]
  },
  {
   "cell_type": "code",
   "execution_count": null,
   "metadata": {},
   "outputs": [],
   "source": [
    "def get_i2_Omega2(im, g1, i1, omega1):\n",
    "    n1 = np.where(np.sin(omega1 - g1) > 0, omega1 - g1 + np.pi, np.pi + omega1 - g1)\n",
    "    i2 = np.arccos(np.sin(im)*np.sin(i1)*np.cos(n1) + np.cos(im)*np.cos(i1))\n",
    "    #i2 = np.where(np.sin(omega1 - g1) > 0, np.pi - i2, i2)\n",
    "    Omega2 = np.arccos((np.cos(im) - np.cos(i1)*np.cos(i2))/(np.sin(i1)*np.sin(i2)))\n",
    "    Omega2 = np.where(np.sin(omega1 - g1) > 0, Omega2, 2*np.pi - Omega2)\n",
    "    return i2, Omega2\n",
    "\n",
    "def im(i1, i2, Omega2):\n",
    "    return np.arccos(np.cos(i1)*np.cos(i2) + np.sin(i1)*np.sin(i2)*np.cos(Omega2))\n",
    "\n",
    "def n1(i1, i2, Omega2):\n",
    "    n1 = np.arccos((np.cos(i2) - np.cos(i1)*np.cos(im(i1, i2, Omega2)))/(np.sin(i1)*np.sin(im(i1, i2, Omega2))))\n",
    "    return np.where(np.sin(Omega2) < 0, n1, np.pi - n1)\n",
    "\n",
    "def g1(i1, i2, Omega2, omega1):\n",
    "    g1 = omega1 - n1(i1, i2, Omega2)\n",
    "    return np.where(np.sin(Omega2) < 0, g1 + np.pi, g1)\n",
    "\n",
    "# tests\n",
    "i1, omega1 = x[2], x[4]\n",
    "print(np.degrees(im(i1, *get_i2_Omega2(np.radians(60.0), np.radians(140.0), i1, omega1))))\n",
    "print(np.degrees(g1(i1, *get_i2_Omega2(np.radians(60.0), np.radians(140.0), i1, omega1), omega1)))\n",
    "print(np.degrees(g1(np.radians(90), np.radians(60), np.radians(-90), np.radians(90))))\n",
    "np.degrees(get_i2_Omega2(np.radians(120.0), np.radians(180.0), np.radians(90), np.radians(90)))\n",
    "np.degrees(get_i2_Omega2((*np.radians((11.2, 300, 86.0, 200+180)))))"
   ]
  },
  {
   "cell_type": "code",
   "execution_count": null,
   "metadata": {},
   "outputs": [],
   "source": [
    "def dbdt_im_g1(angles):\n",
    "    im, g1 = angles\n",
    "    y = x.copy()\n",
    "    i2, Omega2 = get_i2_Omega2(im, g1, x[2], x[4])\n",
    "    y[9], y[10] = i2, Omega2\n",
    "    ecl_model, rv_model = fit.get_residuals(y, safe=False)\n",
    "    dbdt, b0 = fit.impact_regression(ecl_model)\n",
    "    return dbdt['A']\n",
    "\n",
    "def dbdt_i2_Omega2(angles):\n",
    "    y = x.copy()\n",
    "    y[9], y[10] = angles\n",
    "    ecl_model, rv_model = fit.get_residuals(y, safe=False)\n",
    "    dbdt, b0 = fit.impact_regression(ecl_model)\n",
    "    return dbdt['A'] \n",
    "\n",
    "def dbdt_im_Omega2(angles):\n",
    "    im, Omega2 = angles\n",
    "    y = x.copy()\n",
    "    i2 = get_i2(im, x[2], Omega2)\n",
    "    y[9], y[10] = i2, Omega2\n",
    "    ecl_model, rv_model = fit.get_residuals(y, safe=False)\n",
    "    dbdt, b0 = fit.impact_regression(ecl_model)\n",
    "    return dbdt['A'] "
   ]
  },
  {
   "cell_type": "code",
   "execution_count": null,
   "metadata": {},
   "outputs": [],
   "source": [
    "#plt.plot(np.degrees(np.linspace(0, 2*np.pi, 100)), [dbdt_im_g1(np.radians((90, g1))) for g1 in np.linspace(0, 360, 100)]) "
   ]
  },
  {
   "cell_type": "code",
   "execution_count": null,
   "metadata": {},
   "outputs": [],
   "source": [
    "N = 5000\n",
    "phi = (1 + np.sqrt(5))/2\n",
    "ims = np.radians(180) * np.sqrt(np.arange(N) + 1/2)/np.sqrt(N + 1/2)\n",
    "g1s = 2*np.pi*np.arange(N)/phi**2\n",
    "fig, ax = plt.subplots(subplot_kw=dict(projection='polar'), figsize=(10,10))\n",
    "ax.scatter(g1s, np.degrees(ims), marker='.')"
   ]
  },
  {
   "cell_type": "code",
   "execution_count": null,
   "metadata": {},
   "outputs": [],
   "source": [
    "N = 5000\n",
    "phi = (1 + np.sqrt(5))/2\n",
    "i2s = np.radians(180) * np.sqrt(np.arange(N) + 1/2)/np.sqrt(N + 1/2)\n",
    "Omega2s = 2*np.pi*np.arange(N)/phi**2\n",
    "#fig, ax = plt.subplots(subplot_kw=dict(projection='polar'), figsize=(10,10))\n",
    "#ax.scatter(Omega2s, i2s, marker='.')"
   ]
  },
  {
   "cell_type": "code",
   "execution_count": null,
   "metadata": {},
   "outputs": [],
   "source": [
    "import multiprocessing\n",
    "\n",
    "def parallel_apply_along_axis(func1d, axis, arr, *args, **kwargs):\n",
    "    \"\"\"\n",
    "    Like numpy.apply_along_axis(), but takes advantage of multiple\n",
    "    cores.\n",
    "    \"\"\"        \n",
    "    # Effective axis where apply_along_axis() will be applied by each\n",
    "    # worker (any non-zero axis number would work, so as to allow the use\n",
    "    # of `np.array_split()`, which is only done on axis 0):\n",
    "    effective_axis = 1 if axis == 0 else axis\n",
    "    if effective_axis != axis:\n",
    "        arr = arr.swapaxes(axis, effective_axis)\n",
    "\n",
    "    # Chunks for the mapping (only a few chunks):\n",
    "    chunks = [(func1d, effective_axis, sub_arr, args, kwargs)\n",
    "              for sub_arr in np.array_split(arr, multiprocessing.cpu_count())]\n",
    "\n",
    "    pool = multiprocessing.Pool()\n",
    "    individual_results = pool.map(unpacking_apply_along_axis, chunks)\n",
    "    # Freeing the workers:\n",
    "    pool.close()\n",
    "    pool.join()\n",
    "\n",
    "    return np.concatenate(individual_results)\n",
    "\n",
    "def unpacking_apply_along_axis(arg):\n",
    "    \"\"\"\n",
    "    Like numpy.apply_along_axis(), but and with arguments in a tuple\n",
    "    instead.\n",
    "\n",
    "    This function is useful with multiprocessing.Pool().map(): (1)\n",
    "    map() only handles functions that take a single argument, and (2)\n",
    "    this function can generally be imported from a module, as required\n",
    "    by map().\n",
    "    \"\"\"\n",
    "    (func1d, axis, arr, args, kwargs) = arg\n",
    "    return np.apply_along_axis(func1d, axis, arr, *args, **kwargs)"
   ]
  },
  {
   "cell_type": "code",
   "execution_count": null,
   "metadata": {},
   "outputs": [],
   "source": [
    "try:\n",
    "    dbdt_im_g1_arr = np.load('im_g1_fit_out/im_g1_circle.npy')\n",
    "except:\n",
    "    dbdt_im_g1_arr = parallel_apply_along_axis(dbdt_im_g1, 0, np.vstack((ims, g1s)))"
   ]
  },
  {
   "cell_type": "code",
   "execution_count": null,
   "metadata": {},
   "outputs": [],
   "source": [
    "#dbdt_i2_Omega2_arr = parallel_apply_along_axis(dbdt_i2_Omega2, 0, np.vstack((i2s, Omega2s)))"
   ]
  },
  {
   "cell_type": "code",
   "execution_count": null,
   "metadata": {
    "scrolled": true
   },
   "outputs": [],
   "source": [
    "#dbdt_im_Omega2_arr = parallel_apply_along_axis(dbdt_im_Omega2, 0, np.vstack((ims, Omega2s)))"
   ]
  },
  {
   "cell_type": "code",
   "execution_count": null,
   "metadata": {},
   "outputs": [],
   "source": [
    "#dbdt_im_g1_zoom_arr = parallel_apply_along_axis(dbdt_im_g1, 0, np.vstack((ims, g1s)))"
   ]
  },
  {
   "cell_type": "code",
   "execution_count": null,
   "metadata": {},
   "outputs": [],
   "source": [
    "# planet phase shouldn't matter, so I don't compute it correctly\n",
    "tp = 158.9\n",
    "# Orbital solution from Borkovits et al. 2016, assuming equal mass binary\n",
    "borko = [18.61196, 66.8735, np.radians(86), 0.05, np.radians(270),\n",
    "         236.26, tp, 0.071*np.cos(np.radians(324)), 0.071*np.sin(np.radians(324)), np.radians(73), np.radians(39),\n",
    "         1.0, 1.0, 0.018, 0.0, 0.0, 0.0]\n",
    "\n",
    "# Orbital solution from Getley et al. 2017\n",
    "getley = [18.61196, 66.8735, np.radians(80), 0.246, np.radians(22.82),\n",
    "          237.70817, tp, 0.0604*np.cos(np.radians(27.67)), 0.0604*np.sin(np.radians(27.67)), np.radians(105.92), np.radians(64.19 - 305.54),\n",
    "          1.21, 0.51, 7.698/1047.5, 0.0, 0.0, 0.0]\n",
    "\n",
    "print(np.degrees(im(borko[2], borko[9], borko[10])))\n",
    "print(np.degrees(g1(borko[2], borko[9], borko[10], borko[4])))\n",
    "print(np.degrees(im(getley[2], getley[9], getley[10])))\n",
    "print(np.degrees(g1(getley[2], getley[9], getley[10], getley[4])))\n",
    "print(np.degrees(im(x[2], x[9], x[10])))\n",
    "print(np.degrees(g1(x[2], x[9], x[10], x[4])))"
   ]
  },
  {
   "cell_type": "code",
   "execution_count": null,
   "metadata": {},
   "outputs": [],
   "source": [
    "from scipy.signal import detrend\n",
    "\n",
    "def combine_params(plan_params, x, angles):\n",
    "    im, g1 = angles\n",
    "    y = x.copy()\n",
    "    i2, Omega2 = get_i2_Omega2(im, g1, x[2], x[4])\n",
    "    y[9], y[10] = i2, Omega2\n",
    "    y[5:9] = plan_params[:-1]\n",
    "    y[13] = plan_params[-1]\n",
    "    return y\n",
    "\n",
    "def planet_model(plan_params, x, angles):\n",
    "    y = combine_params(plan_params, x, angles)\n",
    "    ecl_model, rv_model = fit.get_residuals(y, safe=True, tFin=1500)\n",
    "    return ecl_model, rv_model\n",
    "\n",
    "def planet_chisq(plan_params, x, angles):\n",
    "    ecl_model, rv_model = planet_model(plan_params, x, angles)\n",
    "    return ((detrend(ecl_model['A']['res'].dropna())/ecl_model['A']['data_err'].dropna())**2).sum()"
   ]
  },
  {
   "cell_type": "code",
   "execution_count": null,
   "metadata": {},
   "outputs": [],
   "source": [
    "def reduced_fit(angles):\n",
    "    result = differential_evolution(planet_chisq, \n",
    "                      args=(x, angles), popsize=5, workers=8,\n",
    "                      bounds=[(220, 260), (0, 250), (-0.2, 0.2), (-0.2, 0.2), (0., 20/1000.)])\n",
    "    result['angles'] = angles\n",
    "    print(result)\n",
    "    print('\\n')\n",
    "    return result"
   ]
  },
  {
   "cell_type": "code",
   "execution_count": null,
   "metadata": {
    "scrolled": true
   },
   "outputs": [],
   "source": [
    "import pickle\n",
    "reduced_fit_results = []\n",
    "for i in range(5):\n",
    "    infile = open('im_g1_fit_out/im_g1_fit_{}.data'.format(i), 'rb')\n",
    "    reduced_fit_results.extend(pickle.load(infile))\n",
    "    infile.close()\n",
    "\n",
    "for result in reduced_fit_results:\n",
    "    if not result['success']:\n",
    "        print(result)"
   ]
  },
  {
   "cell_type": "code",
   "execution_count": null,
   "metadata": {},
   "outputs": [],
   "source": [
    "red_ims = np.asarray([result['angles'][0] for result in reduced_fit_results])\n",
    "red_g1s = np.asarray([result['angles'][1] for result in reduced_fit_results])\n",
    "chisqs = np.asarray([result['fun'] if result['success'] else np.nan for result in reduced_fit_results])"
   ]
  },
  {
   "cell_type": "code",
   "execution_count": null,
   "metadata": {
    "scrolled": false
   },
   "outputs": [],
   "source": [
    "fig, ax = plt.subplots(subplot_kw=dict(projection='polar'), figsize=(10,10))\n",
    "img = ax.scatter(red_g1s, np.degrees(red_ims), c=chisqs, s=20, alpha=0.8,\n",
    "                cmap=plt.get_cmap('viridis'), #norm=colors.LogNorm(vmin=60, vmax=1000))\n",
    "                 vmin=60, vmax=200)\n",
    "\n",
    "ax.plot(np.linspace(0, 2*np.pi, 100), 90.0*np.ones(100), color='k', linestyle='--')\n",
    "ax.grid(False)\n",
    "ax.set_yticklabels([])\n",
    "ax.set_ylim([0, 180])\n",
    "cbar = plt.colorbar(img, aspect=10, shrink=0.4)\n",
    "cbar.set_label('$\\chi^2_{ETV}$', rotation=270, fontsize='x-large', labelpad=20)\n",
    "#plt.savefig('figures/im_g1_fit_constraints.png', dpi='figure')\n",
    "#plt.savefig('figures/chisq_etv.eps')"
   ]
  },
  {
   "cell_type": "code",
   "execution_count": null,
   "metadata": {
    "scrolled": false
   },
   "outputs": [],
   "source": [
    "for i, result in enumerate(reduced_fit_results):\n",
    "    if result['angles'][0] > np.radians(90) and result['fun'] < 120:\n",
    "        print(i)\n",
    "        print(np.degrees(result['angles'][0]), np.fmod(np.degrees(result['angles'][1]), 360))\n",
    "        print(result['fun'])\n",
    "        print('')"
   ]
  },
  {
   "cell_type": "code",
   "execution_count": null,
   "metadata": {},
   "outputs": [],
   "source": [
    "plot = Plotter('5095')\n",
    "\n",
    "result = reduced_fit_results[2300]\n",
    "\n",
    "plot.etv_residuals(combine_params(result['x'], x, result['angles']), 'A', phased=True, linearize=True)\n",
    "print(np.fmod(np.degrees(result['angles']), 360))\n",
    "print(result['x'])\n",
    "print(result['fun'])\n",
    "\n",
    "ecl_model, rv_model = fit.get_residuals(combine_params(result['x'], x, result['angles']))\n",
    "(fit.impact_regression(ecl_model)[0]['A'] - fit.dbdt_data['A'])/fit.dbdt_err['A']"
   ]
  },
  {
   "cell_type": "code",
   "execution_count": null,
   "metadata": {},
   "outputs": [],
   "source": [
    "def dbdt_fit(i):\n",
    "    result = reduced_fit_results[i[0]]\n",
    "    ecl_model, rv_model = fit.get_residuals(combine_params(result['x'], x, result['angles']))\n",
    "    return fit.impact_regression(ecl_model)[0]['A']"
   ]
  },
  {
   "cell_type": "code",
   "execution_count": null,
   "metadata": {},
   "outputs": [],
   "source": [
    "try:\n",
    "    dbdt_fit_arr = np.load('im_g1_fit_out/im_g1_fit.npy')\n",
    "except:\n",
    "    dbdt_fit_arr = parallel_apply_along_axis(dbdt_fit, 1, np.arange(5000)[:,np.newaxis])"
   ]
  },
  {
   "cell_type": "code",
   "execution_count": null,
   "metadata": {},
   "outputs": [],
   "source": [
    "sigmas = np.abs((dbdt_fit_arr - 3.99e-07)/1.69e-7)\n",
    "fig, ax = plt.subplots(subplot_kw=dict(projection='polar'), figsize=(10,10))\n",
    "img = ax.scatter(g1s, np.degrees(ims), c=sigmas, s=20, alpha=0.8,\n",
    "                cmap=plt.get_cmap('viridis'), vmin=0, vmax=20)\n",
    "#ax.scatter([g1(borko[2], borko[9], borko[10], borko[4])], [np.degrees(im(borko[2], borko[9], borko[10]))], color='orange')\n",
    "#ax.scatter([g1(getley[2], getley[9], getley[10], getley[4])], [np.degrees(im(getley[2], getley[9], getley[10]))], color='k')\n",
    "ax.scatter([g1(x[2], x[9], x[10], x[4])], [np.degrees(im(x[2], x[9], x[10]))], color='r', marker='x')\n",
    "ax.plot(np.linspace(0, 2*np.pi, 100), 90.0*np.ones(100), color='k', linestyle='--')\n",
    "ax.grid(False)\n",
    "ax.set_yticklabels([])\n",
    "ax.set_ylim([0, 180])\n",
    "cbar = plt.colorbar(img, aspect=10, shrink=0.4)\n",
    "cbar.set_label(r'$\\chi^2_{dbdt}$', rotation=270, fontsize='x-large', labelpad=20)\n",
    "#plt.savefig('figures/dbdt_plot.eps')\n",
    "#plt.savefig('figures/tennis ball.png', dpi='figure')"
   ]
  },
  {
   "cell_type": "code",
   "execution_count": null,
   "metadata": {
    "scrolled": true
   },
   "outputs": [],
   "source": [
    "fig, axs = plt.subplots(1, 2, subplot_kw=dict(projection='polar'), figsize=(16,12))\n",
    "\n",
    "img = axs[0].scatter(red_g1s, np.degrees(red_ims), c=chisqs, s=20, alpha=0.8,\n",
    "                cmap=plt.get_cmap('viridis'), vmin=60, vmax=200)\n",
    "cbar0 = fig.colorbar(img, ax=axs[0], aspect=10, shrink=0.6, orientation='horizontal', pad=0.05)\n",
    "cbar0.set_label('$\\chi^2_{ETV}$', fontsize='x-large', labelpad=20)\n",
    "img = axs[1].scatter(g1s, np.degrees(ims), c=sigmas, s=20, alpha=0.8,\n",
    "                cmap=plt.get_cmap('viridis'), vmin=0, vmax=20)\n",
    "cbar1 = fig.colorbar(img, ax=axs[1], aspect=10, shrink=0.6, orientation='horizontal', pad=0.05)\n",
    "cbar1.set_label(r'$\\chi^2_{dbdt}$', fontsize='x-large', labelpad=20)\n",
    "\n",
    "for i in (0,1):\n",
    "    axs[i].plot(np.linspace(0, 2*np.pi, 100), 90.0*np.ones(100), color='k', linestyle='--')\n",
    "    axs[i].grid(False)\n",
    "    axs[i].set_yticklabels([])\n",
    "    axs[i].set_xticklabels([])\n",
    "    axs[i].set_ylim([0, 180])\n",
    "    axs[i].scatter([g1(x[2], x[9], x[10], x[4])], [np.degrees(im(x[2], x[9], x[10]))], color='r', marker='x')\n",
    "\n",
    "axs[1].annotate('stationary polar orbit', xy=(np.pi/2, 90), xycoords='data',\n",
    "                xytext=(np.pi/2, 130),\n",
    "                arrowprops=dict(arrowstyle='-|>', fc='k', lw=1.5),\n",
    "                horizontalalignment='center', verticalalignment='top', fontsize=16)\n",
    "axs[1].annotate('stationary polar orbit', xy=(3*np.pi/2, 90), xycoords='data',\n",
    "                xytext=(3*np.pi/2, 130),\n",
    "                arrowprops=dict(arrowstyle='-|>', fc='k', lw=1.5),\n",
    "                horizontalalignment='center', verticalalignment='bottom', fontsize=16)\n",
    "\n",
    "axs[0].annotate('our solution', xy=(np.radians(30), 5),\n",
    "                xytext=(np.radians(60), 60),\n",
    "                arrowprops=dict(arrowstyle='-|>', fc='k', ec='k', lw=1.5),\n",
    "                horizontalalignment='center', verticalalignment='center', fontsize=16)\n",
    "\n",
    "plt.tight_layout()\n",
    "#plt.savefig('figures/combined constraint.png', dpi='figure')\n",
    "#plt.savefig('figures/combined_constraint.eps')"
   ]
  },
  {
   "cell_type": "code",
   "execution_count": null,
   "metadata": {
    "scrolled": true
   },
   "outputs": [],
   "source": [
    "import pickle\n",
    "reduced_fit_results = []\n",
    "for i in range(5):\n",
    "    infile = open('im_g1_fit_out/im_g1_fit_{}_dense.data'.format(i), 'rb')\n",
    "    reduced_fit_results.extend(pickle.load(infile))\n",
    "    infile.close()\n",
    "\n",
    "for result in reduced_fit_results:\n",
    "    if not result['success']:\n",
    "        print(result)"
   ]
  },
  {
   "cell_type": "code",
   "execution_count": null,
   "metadata": {},
   "outputs": [],
   "source": [
    "red_ims = np.asarray([result['angles'][0] for result in reduced_fit_results])\n",
    "red_g1s = np.asarray([result['angles'][1] for result in reduced_fit_results])\n",
    "chisqs = np.asarray([result['fun'] if result['success'] else np.nan for result in reduced_fit_results])"
   ]
  },
  {
   "cell_type": "code",
   "execution_count": null,
   "metadata": {
    "scrolled": false
   },
   "outputs": [],
   "source": [
    "fig, ax = plt.subplots(subplot_kw=dict(projection='polar'), figsize=(10,10))\n",
    "img = ax.scatter(red_g1s, np.degrees(red_ims), c=chisqs, s=20, alpha=0.8,\n",
    "                cmap=plt.get_cmap('viridis'), #norm=colors.LogNorm(vmin=60, vmax=1000))\n",
    "                 vmin=60, vmax=200)\n",
    "\n",
    "#ax.plot(np.linspace(0, 2*np.pi, 100), 90.0*np.ones(100), color='k', linestyle='--')\n",
    "ax.grid(False)\n",
    "ax.set_yticklabels([])\n",
    "ax.set_ylim([0, 90])\n",
    "cbar = plt.colorbar(img, aspect=10, shrink=0.4)\n",
    "cbar.set_label('$\\chi^2_{ETV}$', rotation=270, fontsize='x-large', labelpad=20)\n",
    "#plt.savefig('figures/im_g1_fit_constraints.png', dpi='figure')\n",
    "#plt.savefig('figures/chisq_etv.eps')"
   ]
  },
  {
   "cell_type": "code",
   "execution_count": null,
   "metadata": {},
   "outputs": [],
   "source": [
    "N = 5000\n",
    "ims = np.zeros(0)\n",
    "g1s = np.zeros(0)\n",
    "\n",
    "# Create a sphere\n",
    "a = 4*np.pi/N\n",
    "d = np.sqrt(a)\n",
    "M_theta = int(np.round(np.pi/d))\n",
    "d_theta = np.pi/M_theta\n",
    "d_phi = a/d_theta\n",
    "for m in range(M_theta):\n",
    "    theta = np.pi*(m + 0.5)/M_theta\n",
    "    M_phi = int(np.round(2*np.pi*np.sin(theta)/d_phi))\n",
    "    for n in range(M_phi):\n",
    "        phi = 2*np.pi*n/M_phi\n",
    "        ims = np.append(ims, theta)\n",
    "        g1s = np.append(g1s, phi)"
   ]
  },
  {
   "cell_type": "code",
   "execution_count": null,
   "metadata": {},
   "outputs": [],
   "source": [
    "try:\n",
    "    dbdt_im_g1_sphere = np.load('im_g1_fit_out/im_g1_sphere.npy')\n",
    "except:\n",
    "    dbdt_im_g1_sphere = parallel_apply_along_axis(dbdt_im_g1, 0, np.vstack((ims, g1s)))"
   ]
  },
  {
   "cell_type": "code",
   "execution_count": null,
   "metadata": {},
   "outputs": [],
   "source": [
    "%matplotlib auto\n",
    "from matplotlib import cm, colors\n",
    "from mpl_toolkits.mplot3d import Axes3D\n",
    "\n",
    "xx = np.sin(ims)*np.cos(g1s)\n",
    "yy = np.sin(ims)*np.sin(g1s)\n",
    "zz = np.cos(ims)\n",
    "\n",
    "#Set colours and render\n",
    "fig = plt.figure()\n",
    "ax = fig.add_subplot(111, projection='3d')\n",
    "\n",
    "#ax.plot_surface(\n",
    "#    x, y, z,  rstride=1, cstride=1, color='c', alpha=0.3, linewidth=0)\n",
    "sigmas = np.abs((dbdt_im_g1_sphere - 3.99e-07)/1.69e-7)\n",
    "img = ax.scatter(xx, yy, zz, c=sigmas, s=20,\n",
    "                cmap=plt.get_cmap('viridis'), norm=colors.LogNorm(vmin=sigmas.min(), vmax=sigmas.max()))\n",
    "\n",
    "ax.scatter([0], [0], [1], c='red')\n",
    "ax.scatter([0], [0], [-1], c='black')\n",
    "ax.plot(np.cos(np.linspace(0, 2*np.pi, 100)), np.sin(np.linspace(0, 2*np.pi, 100)), np.zeros(100), color='k', linestyle='--')\n",
    "\n",
    "ax.set_xlim([-1,1])\n",
    "ax.set_ylim([-1,1])\n",
    "ax.set_zlim([-1,1])\n",
    "cbar = plt.colorbar(img, aspect=10, shrink=0.4)\n",
    "cbar.set_label('$\\sigma$ score', rotation=270, fontsize='x-large')\n",
    "#ax.set_aspect(\"equal\")\n",
    "plt.tight_layout()\n",
    "plt.show()"
   ]
  },
  {
   "cell_type": "code",
   "execution_count": null,
   "metadata": {},
   "outputs": [],
   "source": [
    "#np.save('im_g1_circle.npy', dbdt_im_g1_arr)\n",
    "#np.save('im_g1_sphere.npy', dbdt_im_g1_sphere)"
   ]
  },
  {
   "cell_type": "code",
   "execution_count": null,
   "metadata": {},
   "outputs": [],
   "source": []
  }
 ],
 "metadata": {
  "kernelspec": {
   "display_name": "Python 3",
   "language": "python",
   "name": "python3"
  },
  "language_info": {
   "codemirror_mode": {
    "name": "ipython",
    "version": 3
   },
   "file_extension": ".py",
   "mimetype": "text/x-python",
   "name": "python",
   "nbconvert_exporter": "python",
   "pygments_lexer": "ipython3",
   "version": "3.7.5"
  }
 },
 "nbformat": 4,
 "nbformat_minor": 2
}
