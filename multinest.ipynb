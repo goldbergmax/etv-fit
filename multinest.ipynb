{
 "cells": [
  {
   "cell_type": "code",
   "execution_count": null,
   "metadata": {},
   "outputs": [],
   "source": [
    "%matplotlib inline\n",
    "import numpy as np\n",
    "import matplotlib.pyplot as plt\n",
    "from pymultinest import Analyzer"
   ]
  },
  {
   "cell_type": "code",
   "execution_count": null,
   "metadata": {},
   "outputs": [],
   "source": [
    "a = Analyzer(10, outputfiles_basename = \"mcmc_out/no_b_chains_more/1-\")"
   ]
  },
  {
   "cell_type": "code",
   "execution_count": null,
   "metadata": {
    "scrolled": false
   },
   "outputs": [],
   "source": [
    "# get a dictionary containing information about\n",
    "#   the logZ and its errors\n",
    "#   the individual modes and their parameters\n",
    "#   quantiles of the parameter posteriors\n",
    "stats = a.get_stats()\n",
    "\n",
    "# get the best fit (highest likelihood) point\n",
    "bestfit_params = a.get_best_fit()\n",
    "\n",
    "# iterate through the \"posterior chain\"\n",
    "a.get_equal_weighted_posterior()[...,-1]\n",
    "\n",
    "a.get_mode_stats()['modes']"
   ]
  },
  {
   "cell_type": "code",
   "execution_count": null,
   "metadata": {
    "scrolled": false
   },
   "outputs": [],
   "source": [
    "import corner\n",
    "truths = [0.486, np.radians(108.2), 239.49, 95.923, 0.0551,\n",
    "          np.radians(-46.98), np.radians(83.46), np.radians(0.341), \n",
    "          1.21*1.037/1.089, 4.898/1047.5*(1.21 + 1.15)/(1.089 + 1.037)]\n",
    "names = ['$e_1$', '$\\omega_1$', '$P_2$', '$T_{p2}$', '$e_2$', '$\\omega_2$', '$i_2$', '$\\Omega_2$', '$m_B$', '$m_2$']\n",
    "corner.corner(a.get_equal_weighted_posterior()[...,:-1], truths=truths, labels=names, label_kwargs={'fontsize':'xx-large'})"
   ]
  },
  {
   "cell_type": "code",
   "execution_count": null,
   "metadata": {},
   "outputs": [],
   "source": [
    "i1 = np.radians(85.571)\n",
    "i2 = a.get_equal_weighted_posterior()[...,6]\n",
    "Omega2 = a.get_equal_weighted_posterior()[...,7]\n",
    "omega1 = a.get_equal_weighted_posterior()[...,1]\n",
    "im = np.arccos(np.cos(i1)*np.cos(i2) + np.sin(i1)*np.sin(i2)*np.cos(Omega2))\n",
    "plt.hist(np.degrees(im), bins=20);"
   ]
  },
  {
   "cell_type": "code",
   "execution_count": null,
   "metadata": {},
   "outputs": [],
   "source": [
    "n1 = np.arccos((np.cos(i2) - np.cos(i1)*np.cos(im))/(np.sin(i1)*np.sin(im)))\n",
    "n1 = np.where(np.sin(Omega2) < 0, n1, np.pi - n1)\n",
    "g1 = omega1 - n1\n",
    "g1 = np.where(np.sin(Omega2) > 0, g1, g1 + np.pi)\n",
    "plt.hist(np.degrees(g1), bins=100);"
   ]
  },
  {
   "cell_type": "code",
   "execution_count": null,
   "metadata": {},
   "outputs": [],
   "source": [
    "a.get_best_fit()"
   ]
  },
  {
   "cell_type": "code",
   "execution_count": null,
   "metadata": {},
   "outputs": [],
   "source": [
    "plt.hist(-2*a.get_equal_weighted_posterior()[...,-1], bins=50)"
   ]
  },
  {
   "cell_type": "code",
   "execution_count": null,
   "metadata": {},
   "outputs": [],
   "source": []
  }
 ],
 "metadata": {
  "kernelspec": {
   "display_name": "Python 3",
   "language": "python",
   "name": "python3"
  },
  "language_info": {
   "codemirror_mode": {
    "name": "ipython",
    "version": 3
   },
   "file_extension": ".py",
   "mimetype": "text/x-python",
   "name": "python",
   "nbconvert_exporter": "python",
   "pygments_lexer": "ipython3",
   "version": "3.7.5"
  }
 },
 "nbformat": 4,
 "nbformat_minor": 2
}
