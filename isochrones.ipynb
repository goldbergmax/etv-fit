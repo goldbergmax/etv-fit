{
 "cells": [
  {
   "cell_type": "code",
   "execution_count": null,
   "metadata": {},
   "outputs": [],
   "source": [
    "#import types\n",
    "import numpy as np\n",
    "#import pandas as pd\n",
    "import matplotlib.pyplot as plt\n",
    "import corner\n",
    "import emcee\n",
    "from isochrones.mist import MIST_Isochrone\n",
    "from isochrones import StarModel\n",
    "#from scipy.special import erfinv\n",
    "from scipy.stats import norm, pearsonr"
   ]
  },
  {
   "cell_type": "code",
   "execution_count": null,
   "metadata": {},
   "outputs": [],
   "source": [
    "chain = np.load('mcmc_out/5095_chains_1.npy')\n",
    "mA_mu = chain[:,5000:,11].mean()\n",
    "mA_sigma = chain[:,5000:,11].std()\n",
    "mB_mu = chain[:,5000:,12].mean()\n",
    "mB_sigma = chain[:,5000:,12].std()\n",
    "rho, _ = pearsonr(chain[:,5000:,11].flatten(), chain[:,5000:,12].flatten())\n",
    "print(mA_mu, mA_sigma)\n",
    "print(mB_mu, mB_sigma)\n",
    "print(rho)\n",
    "\n",
    "plt.hist(chain[...,11].flatten(), range=[0.8, 1.4], bins=30, density=True, alpha=0.3)\n",
    "plt.plot(np.linspace(0.8, 1.4, 100), norm.pdf(np.linspace(0.8, 1.4, 100), chain[...,11].mean(), chain[...,11].std()))\n",
    "\n",
    "plt.hist(chain[...,12].flatten(), range=[0.8, 1.4], bins=30, density=True, alpha=0.3)\n",
    "plt.plot(np.linspace(0.8, 1.4, 100), norm.pdf(np.linspace(0.8, 1.4, 100), chain[...,12].mean(), chain[...,12].std()))"
   ]
  },
  {
   "cell_type": "code",
   "execution_count": null,
   "metadata": {},
   "outputs": [],
   "source": [
    "plt.hist((chain[:,5000:,12]/chain[:,5000:,11]).flatten(), bins=30);"
   ]
  },
  {
   "cell_type": "code",
   "execution_count": null,
   "metadata": {},
   "outputs": [],
   "source": [
    "plt.scatter(chain[:,5000:,11].flatten(), chain[:,5000:,12].flatten(), marker='.', s=0.1)"
   ]
  },
  {
   "cell_type": "code",
   "execution_count": null,
   "metadata": {},
   "outputs": [],
   "source": [
    "mist = MIST_Isochrone()"
   ]
  },
  {
   "cell_type": "code",
   "execution_count": null,
   "metadata": {},
   "outputs": [],
   "source": [
    "mags = {'G':(13.4394, 0.0002), 'BP':(13.7217, 1/582.46), 'RP':(12.9942, 1/1167.71), \n",
    "        'J':(12.499, 0.023), 'H':(12.217, 0.018), 'K':(12.215, 0.024)}\n",
    "mod = StarModel(mist, **mags, N=2, parallax=(0.8126,0.0148))\n",
    "mod.print_ascii()\n",
    "#mod.lnlike([1.1, 1.1,8.0, 0., 1260, 0.1])"
   ]
  },
  {
   "cell_type": "code",
   "execution_count": null,
   "metadata": {},
   "outputs": [],
   "source": [
    "def mass_lnprior(p):\n",
    "    return -1/(2*(1 - rho**2)) * ((p[0] - mA_mu)**2/mA_sigma**2 + (p[1] - mB_mu)**2/mB_sigma**2 \n",
    "                                  - 2*rho*(p[0] - mA_mu)*(p[1] - mB_mu)/(mA_sigma*mB_sigma))\n",
    "\n",
    "def lnpost(p):\n",
    "    return mass_lnprior(p) + mod.lnprior(p) + mod.lnlike(p)"
   ]
  },
  {
   "cell_type": "code",
   "execution_count": null,
   "metadata": {},
   "outputs": [],
   "source": [
    "try:\n",
    "    chain = np.load('isochrones_out/isochrones_chain.npy')\n",
    "    lnprobability = np.load('isochrones_out/isochrones_lnprob.npy')\n",
    "except:\n",
    "    from multiprocessing import Pool\n",
    "    with Pool() as pool:\n",
    "        nwalkers = 50\n",
    "        sampler = emcee.EnsembleSampler(nwalkers, 6, lnpost, pool=pool)\n",
    "        p0 = np.array([mA_mu, mB_mu, 9.6, 0.0, 1230, 0.3]) \\\n",
    "            + np.array([mA_sigma, mB_sigma, 0.2, 0.05, 10, 0.05])*np.random.normal(size=(nwalkers,6))\n",
    "        sampler.run_mcmc(p0, 100000);\n",
    "    chain = sampler.get_chain()\n",
    "    np.save('isochrones_out/isochrones_chain.npy', chain)\n",
    "    lnprobability = sampler.lnprobability\n",
    "    np.save('isochrones_out/isochrones_lnprob.npy', lnprobability)"
   ]
  },
  {
   "cell_type": "code",
   "execution_count": null,
   "metadata": {},
   "outputs": [],
   "source": [
    "good_walkers = lnprobability[:,-1] > -25"
   ]
  },
  {
   "cell_type": "code",
   "execution_count": null,
   "metadata": {},
   "outputs": [],
   "source": [
    "plt.plot(chain[:,good_walkers,4]);"
   ]
  },
  {
   "cell_type": "code",
   "execution_count": null,
   "metadata": {
    "scrolled": false
   },
   "outputs": [],
   "source": [
    "#corner.corner(chain[20000:,good_walkers,:].reshape(-1, 6))"
   ]
  },
  {
   "cell_type": "code",
   "execution_count": null,
   "metadata": {},
   "outputs": [],
   "source": [
    "chain[20000:,good_walkers,:].reshape(-1, 6).shape"
   ]
  },
  {
   "cell_type": "code",
   "execution_count": null,
   "metadata": {
    "scrolled": false
   },
   "outputs": [],
   "source": [
    "r1 = mist.radius(chain[-1,good_walkers,0], chain[-1,good_walkers,2], chain[-1,good_walkers,3])\n",
    "r1.mean(), r1.std()"
   ]
  },
  {
   "cell_type": "code",
   "execution_count": null,
   "metadata": {},
   "outputs": [],
   "source": [
    "r1 = mist.radius(chain[-1,good_walkers,1], chain[-1,good_walkers,2], chain[-1,good_walkers,3])\n",
    "r1.mean(), r1.std()"
   ]
  },
  {
   "cell_type": "code",
   "execution_count": null,
   "metadata": {},
   "outputs": [],
   "source": [
    "i,j = np.unravel_index(lnprobability.argmax(), lnprobability.shape)\n",
    "p0_best = chain[j,i,:]\n",
    "print(p0_best)\n",
    "print(lnprobability[i,j])"
   ]
  },
  {
   "cell_type": "code",
   "execution_count": null,
   "metadata": {},
   "outputs": [],
   "source": [
    "# from isochrones import get_ichrone, StarModel\n",
    "\n",
    "# mags = {'G':(13.4394, 0.0002), 'BP':(13.7217, 1/582.46), 'RP':(12.9942, 1/1167.71), \n",
    "#         'J':(12.499, 0.023), 'H':(12.217, 0.018), 'K':(12.215, 0.024)}\n",
    "# mod = StarModel(mist, **mags, N=1, parallax=(0.8126*np.sqrt(2),0.0148))\n",
    "# mod.set_bounds(mass=(1.0, 1.2), feh=(-0.3, 0.1))\n",
    "# mod.print_ascii()"
   ]
  },
  {
   "cell_type": "code",
   "execution_count": null,
   "metadata": {},
   "outputs": [],
   "source": [
    "#mod.fit(n_live_points=2000, resume=False)"
   ]
  },
  {
   "cell_type": "code",
   "execution_count": null,
   "metadata": {},
   "outputs": [],
   "source": [
    "#mod.corner_physical();"
   ]
  },
  {
   "cell_type": "code",
   "execution_count": null,
   "metadata": {
    "scrolled": false
   },
   "outputs": [],
   "source": [
    "# from isochrones import get_ichrone, StarModel\n",
    "\n",
    "# mags = {'G':(13.4394, 0.0002), 'BP':(13.7217, 1/582.46), 'RP':(12.9942, 1/1167.71), \n",
    "#         'J':(12.499, 0.023), 'H':(12.217, 0.018), 'K':(12.215, 0.024)}\n",
    "# mod = StarModel(mist, **mags, N=2, parallax=(0.8126,0.0148))\n",
    "# mod.print_ascii()"
   ]
  },
  {
   "cell_type": "code",
   "execution_count": null,
   "metadata": {},
   "outputs": [],
   "source": [
    "# import inspect\n",
    "# print(inspect.getsource(mod.set_bounds))\n",
    "# mod.set_bounds(mass=(1.0, 1.2), feh=(-0.3, 0.1))"
   ]
  },
  {
   "cell_type": "code",
   "execution_count": null,
   "metadata": {},
   "outputs": [],
   "source": [
    "#mod.fit(n_live_points=2000)"
   ]
  },
  {
   "cell_type": "code",
   "execution_count": null,
   "metadata": {},
   "outputs": [],
   "source": [
    "#mod.corner_physical();"
   ]
  },
  {
   "cell_type": "code",
   "execution_count": null,
   "metadata": {},
   "outputs": [],
   "source": [
    "# mags = {'G':(13.4394, 0.0002), 'BP':(13.7217, 1/582.46), 'RP':(12.9942, 1/1167.71), \n",
    "#         'J':(12.499, 0.023), 'H':(12.217, 0.018), 'K':(12.215, 0.024)}\n",
    "# mod = StarModel(mist, **mags, N=2, parallax=(0.8126,0.0148))\n",
    "# mod.print_ascii()"
   ]
  },
  {
   "cell_type": "code",
   "execution_count": null,
   "metadata": {},
   "outputs": [],
   "source": [
    "# def mnest_prior_modified(self, cube, ndim, nparams):\n",
    "#         for _,n in self.obs.Nstars.items():\n",
    "#             #minmass, maxmass = mod.bounds('mass')\n",
    "#             #for j in range(n):\n",
    "#             #    cube[j] = (maxmass - minmass)*cube[j] + minmass\n",
    "#             #cube[0] = np.percentile(chain[...,11], 100*cube[0])\n",
    "#             #cube[1] = np.percentile(chain[...,12], 100*cube[1])\n",
    "#             cube[0] = mA_mu + mA_sigma*np.sqrt(2)*erfinv(2*cube[0] - 1)\n",
    "#             #cube[1] = mB_mu + mB_sigma*np.sqrt(2)*erfinv(2*cube[1] - 1)\n",
    "#             cube[1] = mB_mu + rho*mB_sigma/mA_sigma * (cube[0] - mA_mu) + \\\n",
    "#                         np.sqrt(2)*mB_sigma*np.sqrt(1 - rho**2) * erfinv(2*cube[1] - 1)\n",
    "\n",
    "#             for j, par in enumerate(['age','feh','distance','AV']):\n",
    "#                 lo, hi = self.bounds(par)\n",
    "#                 cube[n+j] = (hi - lo)*cube[n+j] + lo\n",
    "\n",
    "# mod.mnest_prior = types.MethodType(mnest_prior_modified, mod)"
   ]
  },
  {
   "cell_type": "code",
   "execution_count": null,
   "metadata": {},
   "outputs": [],
   "source": [
    "# import logging\n",
    "# def lnprior_modified(self, p):\n",
    "#     N = self.obs.Nstars\n",
    "#     i = 0\n",
    "#     lnp = 0\n",
    "#     for s in self.obs.systems:\n",
    "#         age, feh, dist, AV = p[i+N[s]:i+N[s]+4]\n",
    "#         for prop, val in zip(['age','feh','distance','AV'],\n",
    "#                              [age, feh, dist, AV]):\n",
    "#             lo,hi = self.bounds(prop)\n",
    "#             if val < lo or val > hi:\n",
    "#                 return -np.inf\n",
    "#             lnp += np.log(self.prior(prop, val))\n",
    "#             if not np.isfinite(lnp):\n",
    "#                 logging.debug('lnp=-inf for {}={} (system {})'.format(prop,val,s))\n",
    "#                 return -np.inf\n",
    "\n",
    "#         masses = p[i:i+N[s]]\n",
    "\n",
    "#         # Mass prior for primary\n",
    "#         #lnp += np.log(self.prior('mass', masses[0]))\n",
    "#         lnp += -1/(2*(1 - rho**2)) * ((masses[0] - mA_mu)**2/mA_sigma**2 + (masses[1] - mB_mu)**2/mB_sigma**2 -\\\n",
    "#                                       2*rho*(masses[0] - mA_mu)*(masses[1] - mB_mu)/(mA_sigma*mB_sigma))\n",
    "#         if not np.isfinite(lnp):\n",
    "#             logging.debug('lnp=-inf for mass={} (system {})'.format(masses[0],s))\n",
    "\n",
    "#         i += N[s] + 4\n",
    "\n",
    "#     return lnp\n",
    "\n",
    "# mod.lnprior = types.MethodType(lnprior_modified, mod)"
   ]
  },
  {
   "cell_type": "code",
   "execution_count": null,
   "metadata": {},
   "outputs": [],
   "source": []
  }
 ],
 "metadata": {
  "kernelspec": {
   "display_name": "Python 3",
   "language": "python",
   "name": "python3"
  },
  "language_info": {
   "codemirror_mode": {
    "name": "ipython",
    "version": 3
   },
   "file_extension": ".py",
   "mimetype": "text/x-python",
   "name": "python",
   "nbconvert_exporter": "python",
   "pygments_lexer": "ipython3",
   "version": "3.7.5"
  }
 },
 "nbformat": 4,
 "nbformat_minor": 2
}
