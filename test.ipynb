{
 "cells": [
  {
   "cell_type": "code",
   "execution_count": null,
   "metadata": {},
   "outputs": [],
   "source": [
    "import numpy as np\n",
    "import pandas as pd\n",
    "from chisq import EclipseFit\n",
    "import emcee\n",
    "%matplotlib inline\n",
    "import matplotlib.pyplot as plt\n",
    "plt.rc('lines', linewidth=2)"
   ]
  },
  {
   "cell_type": "code",
   "execution_count": null,
   "metadata": {},
   "outputs": [],
   "source": [
    "class Plotter(EclipseFit):\n",
    "    def __init__(self, system, **kwargs):\n",
    "        EclipseFit.__init__(self, system, **kwargs)        \n",
    "\n",
    "    def plot_residuals(self, x, star='A', phased=False, ecl_max=None):\n",
    "        cmap = plt.cm.get_cmap('inferno')\n",
    "        ecl_model, rv_model = self.get_residuals(x, tFin=ecl_max)\n",
    "        if not ecl_max:\n",
    "            ecl_max = self.ecl_data[star]['data_t'].max() + 50\n",
    "        ecl_model[star] = ecl_model[star][ecl_model[star]['model_t'] < ecl_max]\n",
    "        fig, ax = plt.subplots(2, figsize=(12, 8), gridspec_kw={'height_ratios':[3,1]},\n",
    "                               sharex=True)\n",
    "        T0, P = lsq_fit(ecl_model[star]['model_t'])\n",
    "        Tp2 = x[6]\n",
    "        if self.system == '5095':\n",
    "            P2 = 235.9 # Highest peak in Fourier transform of ETVs of KIC509\n",
    "        elif self.system == '782':\n",
    "            P2 = x[5]\n",
    "\n",
    "        ax[0].scatter(self.time_to_phase(ecl_model[star]['model_t'], Tp2, P2, phased),\n",
    "                      86400*ecl_time_to_etv(ecl_model[star]['model_t'], P, T0),\n",
    "                      c=ecl_model[star]['model_t'], cmap=cmap, marker='x', s=64)\n",
    "\n",
    "        ax[0].errorbar(self.time_to_phase(self.ecl_data[star]['data_t'], Tp2, P2, phased),\n",
    "                       86400*ecl_time_to_etv(self.ecl_data[star]['data_t'], P, T0), \n",
    "                       86400*self.ecl_data[star]['data_err'], linestyle='None', marker='o', \n",
    "                       markersize=6, color='0.5')\n",
    "\n",
    "        ax[1].errorbar(self.time_to_phase(self.ecl_data[star]['data_t'], Tp2, P2, phased),\n",
    "                       86400*ecl_model[star]['res'].dropna(),\n",
    "                       86400*self.ecl_data[star]['data_err'], linestyle='None', \n",
    "                       marker='o', markersize=6, color='0.5')\n",
    "        ax[1].axhline(0, linestyle='--', color='k')\n",
    "\n",
    "        ax[1].set_xlabel('Time (BJD-2454900)')\n",
    "        ax[0].set_ylabel('ETV (seconds)')\n",
    "        plt.subplots_adjust(hspace=0)\n",
    "        \n",
    "    def cont_rv(self, x, rv_times):\n",
    "        #gamma = x[-1]\n",
    "        rv = {}\n",
    "        for i in self.rv_stars:\n",
    "            rv[i] = pd.DataFrame(index=range(len(rv_times)), columns=['time', 'rv'], dtype=float)\n",
    "        rvcount = 0\n",
    "        sim = self.set_up_sim(x)\n",
    "        while rvcount < len(rv_times):\n",
    "            sim.integrate(rv_times[rvcount])\n",
    "            for i in self.rv_stars:\n",
    "                rv[i].at[rvcount, 'time'] = sim.t\n",
    "                rv[i].at[rvcount, 'rv'] = -sim.particles[i].vz*1731.45683681 #+ gamma\n",
    "            rvcount += 1\n",
    "        return rv\n",
    "\n",
    "    def rv_residuals(self, x, phased=True):\n",
    "        gamma = x[-self.num_rv_sources:]\n",
    "        ecl_model, rv_model = self.get_residuals(x)\n",
    "        T0, P = lsq_fit(ecl_model['A']['data_t'])\n",
    "        if phased:\n",
    "            cont_rvs = self.cont_rv(x, np.linspace(T0, T0 + P, 100, endpoint=False))\n",
    "        else:\n",
    "            start = self.rv_data['A']['time'].min()\n",
    "            stop = self.rv_data['A']['time'].max()\n",
    "            if extra_rvs:\n",
    "                start = min(start, extra_rvs['A']['time'].min())\n",
    "                stop = max(stop, extra_rvs['A']['time'].max())\n",
    "            start -= 5.; stop += 5.\n",
    "            cont_rvs = self.cont_rv(x, np.linspace(start, stop, 1000))\n",
    "        fig, ax = plt.subplots(2, figsize=(16,10), gridspec_kw={'height_ratios':[3,1]},\n",
    "                               sharex=True)\n",
    "        colors = {'A':'r', 'B':'k'}\n",
    "        for i in self.rv_stars:\n",
    "            ax[0].errorbar(self.time_to_phase(self.rv_data[i]['time'], T0, P, phased), self.rv_data[i]['rv'] - gamma[self.rv_data[i]['rv_idx']], \n",
    "                           self.rv_data[i]['rv_err'], linestyle='None', marker='o', c=colors[i])\n",
    "            ax[0].plot(self.time_to_phase(cont_rvs[i]['time'], T0, P, phased), cont_rvs[i]['rv'], colors[i])\n",
    "\n",
    "            ax[1].errorbar(self.time_to_phase(self.rv_data[i]['time'], T0, P, phased), rv_model[i]['res'], \n",
    "                           self.rv_data[i]['rv_err'], linestyle='None', marker='o', color=colors[i])\n",
    "        #ax[0].axhline(gamma, linestyle='--', color='k')\n",
    "        ax[1].axhline(0, linestyle='--', color='k')\n",
    "        if phased:\n",
    "            ax[1].set_xlabel('Orbital Phase from Primary Eclipse')\n",
    "        else:\n",
    "            ax[1].set_xlabel('Time (BJD-2454900)')\n",
    "        ax[0].set_ylabel('Radial Velocity (km/s)')\n",
    "        plt.subplots_adjust(hspace=0)\n",
    "                       \n",
    "    def time_to_phase(self, t, T0, P, phased=True):\n",
    "        if not phased:\n",
    "            return t\n",
    "        #T0, P = lsq_fit(self.ecl_data['A']['data_t'])\n",
    "        return np.remainder(t - T0, P)/P\n",
    "\n",
    "    def impact_fit_quality(self, x):\n",
    "        ecl_model, rv_model = self.get_residuals(x)\n",
    "        dbdt, b0 = self.impact_regression(ecl_model)\n",
    "        if not self.b:\n",
    "            return\n",
    "        print('Data:  {: 6.4} t + {:5.4}'.format(self.dbdt_data['A'], self.b0_data['A']))\n",
    "        print('Model: {: 6.4} t + {:5.4}'.format(dbdt['A'], b0['A']))\n",
    "\n",
    "def lsq_fit(ecl_time):\n",
    "    df = ecl_time.dropna()\n",
    "    A = np.vstack([np.ones(len(df)), df.index]).T\n",
    "    return np.linalg.lstsq(A, df, rcond=None)[0]\n",
    "\n",
    "def ecl_time_to_etv(ecl_time, P=None, T0=None):\n",
    "    if P is None or T0 is None:\n",
    "        T0, P = lsq_fit(ecl_time)\n",
    "    return ecl_time - P*ecl_time.index.values - T0"
   ]
  },
  {
   "cell_type": "code",
   "execution_count": null,
   "metadata": {},
   "outputs": [],
   "source": [
    "def nice_units(x):\n",
    "    y = x.copy()\n",
    "    # convert angles to degrees\n",
    "    y[...,2] *= 180/np.pi\n",
    "    y[...,4] *= 180/np.pi\n",
    "    y[...,9] *= 180/np.pi\n",
    "    y[...,10] *= 180/np.pi\n",
    "    # convert solar masses to jupiter masses\n",
    "    y[...,13] *= 1047.58\n",
    "    return y\n",
    "\n",
    "def pretty_print(x):\n",
    "    e2 = np.sqrt(x[7]**2 + x[8]**2)\n",
    "    omega2 = np.degrees(np.arctan2(x[8], x[7]))\n",
    "    return \\\n",
    "    '''\n",
    "             P (d)    Epoch (d)   i (deg)        e    ω (deg)    Ω (deg)\n",
    "Binary   {:>9.8}    {:>9.7}   {:>7.5}  {:>7.3}   {:> 8.4}   {:> 8.4}\n",
    "Planet   {:>9.5}    {:>9.5}   {:>7.4}  {:>7.3}   {:> 8.4}   {:> 8.3}\n",
    " \n",
    "Masses:\n",
    "M_A (Msolar) {:.4}\n",
    "M_B (Msolar) {:.4}\n",
    "M_p (Mjup)   {:.4}\n",
    "k2           {:.4}\n",
    "γ (km/s)     {:.4}   \n",
    "    '''.format(x[0], x[1], np.degrees(x[2]), x[3], np.degrees(x[4]), 0.,\n",
    "               x[5], x[6], np.degrees(x[9]), e2, omega2, np.degrees(x[10]),\n",
    "               x[11], x[12], 1047.5*x[13], x[14], x[15])"
   ]
  },
  {
   "cell_type": "code",
   "execution_count": null,
   "metadata": {},
   "outputs": [],
   "source": [
    "system = '5095'"
   ]
  },
  {
   "cell_type": "code",
   "execution_count": null,
   "metadata": {},
   "outputs": [],
   "source": [
    "chain = np.load(system + '_chains_not.npy')\n",
    "prob = np.load(system + '_probs_not.npy')\n",
    "good_walkers = -2*prob[:, -1] < 300\n",
    "print('Good walkers:', np.sum(good_walkers))\n",
    "best_indx = prob.flatten()[np.nonzero(prob.flatten())].argmax()\n",
    "print('Best chi-squared:', -2*prob.flatten()[best_indx])\n",
    "x = chain.reshape(-1, 16)[best_indx].copy()\n",
    "#x = np.insert(x, 2, np.radians(90))\n",
    "print(pretty_print(x))\n",
    "x = np.append(x, 89.56)"
   ]
  },
  {
   "cell_type": "code",
   "execution_count": null,
   "metadata": {},
   "outputs": [],
   "source": [
    "fit = EclipseFit(system)\n",
    "fit.rv_data\n",
    "print(x)\n",
    "\n",
    "#x = [18.6109138,  66.8627328, np.radians(90),  0.538172592, 1.91748714,  \n",
    "#     239.503827,  93.9899100,  0.0398027125, -0.0408160527,  1.52275477, -0.00779595908,  \n",
    "#     1.19411368, 1.02500160,  4.31304120e-03,  0.0,  4.23715912]\n",
    "ecl_model, rv_model = fit.get_residuals(x)\n",
    "dbdt, b0 = fit.impact_regression(ecl_model)\n",
    "print(b0, dbdt)\n",
    "print(-2*fit.evaluate(x))\n",
    "#plt.plot(ecl_model['A']['model_t'], b0['A'] + dbdt['A']*ecl_model['A']['model_t'])\n",
    "#plt.plot(ecl_model['A']['model_t'], ecl_model['A']['model_b'])"
   ]
  },
  {
   "cell_type": "code",
   "execution_count": null,
   "metadata": {},
   "outputs": [],
   "source": [
    "#import cProfile\n",
    "#cProfile.run('fit.get_residuals(x)', sort='time')"
   ]
  },
  {
   "cell_type": "code",
   "execution_count": null,
   "metadata": {
    "scrolled": false
   },
   "outputs": [],
   "source": [
    "plot = Plotter(system)\n",
    "plot.plot_residuals(x, 'A', phased=True)\n",
    "try:\n",
    "    plot.plot_residuals(x, 'B', phased=True)\n",
    "except:\n",
    "    pass\n",
    "plot.rv_residuals(x, phased=True)\n",
    "plot.impact_fit_quality(x)"
   ]
  },
  {
   "cell_type": "code",
   "execution_count": null,
   "metadata": {},
   "outputs": [],
   "source": [
    "sim = plot.set_up_sim(x)\n",
    "N = 1000\n",
    "prec = np.zeros((N,3))\n",
    "ts = np.linspace(0, 1600, N)\n",
    "for i in range(N):\n",
    "    sim.integrate(ts[i])\n",
    "    prec[i,0] = ts[i]\n",
    "    prec[i,1] = sim.particles[1].omega\n",
    "plt.plot(prec[...,0], prec[...,1])"
   ]
  },
  {
   "cell_type": "code",
   "execution_count": null,
   "metadata": {
    "scrolled": false
   },
   "outputs": [],
   "source": [
    "# New RVs\n",
    "new_rvs = {}\n",
    "new_rvs['A'] = pd.DataFrame([[58199.1470708842, 116.39772, 4.0],\n",
    "                             [58212.147214721 , 64.621752, 4.0],\n",
    "                             [58229.1205147477, 54.468166, 4.0],\n",
    "                             [58236.0789507604, 102.59536, 4.0],\n",
    "                             [58246.110852669 , 36.560824, 4.0],\n",
    "                             [58251.1009844909, 85.059876, 4.0],\n",
    "                             [58260.1059522964, 94.600916, 4.0],\n",
    "                             [58264.0851431191, 29.099431, 4.0],\n",
    "                             [58293.0101433173, 115.91943, 4.0]], columns=['time', 'rv', 'rv_err'])\n",
    "new_rvs['B'] = pd.DataFrame([[58199.1470708842, 46.260634, 4.0],\n",
    "                             [58212.147214721 , 80.610640, 4.0],\n",
    "                             [58229.1205147477, 102.96722, 4.0],\n",
    "                             [58236.0789507604, 41.304625, 4.0],\n",
    "                             [58246.110852669 , 122.36684, 4.0],\n",
    "                             [58251.1009844909, 73.121648, 4.0],\n",
    "                             [58260.1059522964, 51.297680, 4.0],\n",
    "                             [58264.0851431191, 135.05121, 4.0],\n",
    "                             [58293.0101433173, 40.638422, 4.0]], columns=['time', 'rv', 'rv_err'])\n",
    "\n",
    "barycenter_corr = np.array([9.798384,12.206743,13.575636,\n",
    "                            14.382747,14.397823,13.634840,\n",
    "                            12.746271,12.300948,7.496051])\n",
    "\n",
    "new_rvs['A']['time'] += 2400000.5 - 2455000\n",
    "new_rvs['B']['time'] += 2400000.5 - 2455000\n",
    "#new_rvs['A']['rv'] -= 85\n",
    "new_rvs['A']['rv'] += barycenter_corr\n",
    "#new_rvs['B']['rv'] -= 85\n",
    "new_rvs['B']['rv'] += barycenter_corr\n",
    "\n",
    "#plot.rv_residuals(x, extra_rvs=new_rvs, phased=True)\n",
    "print(new_rvs['B'])"
   ]
  },
  {
   "cell_type": "code",
   "execution_count": null,
   "metadata": {
    "scrolled": false
   },
   "outputs": [],
   "source": [
    "plt.plot(nice_units(chain)[...,15].T);"
   ]
  },
  {
   "cell_type": "code",
   "execution_count": null,
   "metadata": {},
   "outputs": [],
   "source": [
    "plt.plot((-2*prob).min(axis=0))\n",
    "plt.yscale('log')"
   ]
  },
  {
   "cell_type": "code",
   "execution_count": null,
   "metadata": {
    "scrolled": false
   },
   "outputs": [],
   "source": [
    "plt.plot(-2*prob.T)\n",
    "plt.yscale('log')"
   ]
  },
  {
   "cell_type": "code",
   "execution_count": null,
   "metadata": {},
   "outputs": [],
   "source": [
    "print(-2*prob[:,-1])"
   ]
  },
  {
   "cell_type": "code",
   "execution_count": null,
   "metadata": {},
   "outputs": [],
   "source": [
    "dof = sum(map(len, plot.ecl_data.values())) + sum(map(len, plot.rv_data.values()))\n",
    "-2*prob.flatten()[best_indx]/dof"
   ]
  },
  {
   "cell_type": "code",
   "execution_count": null,
   "metadata": {
    "scrolled": false
   },
   "outputs": [],
   "source": [
    "import corner\n",
    "corner.corner((nice_units(chain[:, 2000:, :].reshape(-1, 16)).T[chain.reshape(-1, 16).std(axis=0) > 1e-10]).T)"
   ]
  },
  {
   "cell_type": "code",
   "execution_count": null,
   "metadata": {
    "scrolled": false
   },
   "outputs": [],
   "source": [
    "im = np.degrees(np.arccos(np.sin(chain[:, 3000:, 9])*np.cos(chain[:, 3000:, 10]))).T\n",
    "plt.hist(im.flatten(), bins=50);"
   ]
  },
  {
   "cell_type": "code",
   "execution_count": null,
   "metadata": {},
   "outputs": [],
   "source": [
    "plt.hist(chain[:, 3000:, 3].flatten(), bins=30)"
   ]
  },
  {
   "cell_type": "code",
   "execution_count": null,
   "metadata": {},
   "outputs": [],
   "source": [
    "chain[good_walkers, 1000:, :].reshape(-1, 16).std(axis=0)"
   ]
  },
  {
   "cell_type": "code",
   "execution_count": null,
   "metadata": {},
   "outputs": [],
   "source": [
    "plt.rc('font', size=14)\n",
    "chain_carmenes = np.load(system + '_chains_carmenes.npy')\n",
    "prob_carmenes = np.load(system + '_probs_carmenes.npy')\n",
    "chain_not = np.load(system + '_chains_not.npy')\n",
    "prob_not = np.load(system + '_probs_not.npy')\n",
    "fig, axs = plt.subplots(2, 2, figsize=(10,9))\n",
    "axs = axs.flatten()\n",
    "def double_hist(ax, par):\n",
    "    ax.hist(chain_carmenes[...,3000:,par].flatten(), bins=30, density=True, alpha=0.3, label='CARMENES')\n",
    "    ax.hist(chain_not[...,3000:,par].flatten(), bins=30, density=True, alpha=0.3, label='NOT')\n",
    "    ax.legend()\n",
    "double_hist(axs[0], 11)\n",
    "axs[0].set_xlabel('$M_A$ ($M_\\odot$)')\n",
    "double_hist(axs[1], 12)\n",
    "axs[1].set_xlabel('$M_B$ ($M_\\odot$)')\n",
    "double_hist(axs[2], 3)\n",
    "axs[2].set_xlabel('$e_1$')\n",
    "double_hist(axs[3], 4)\n",
    "axs[3].set_xlabel('$\\omega_1$ (rad)')"
   ]
  },
  {
   "cell_type": "code",
   "execution_count": null,
   "metadata": {},
   "outputs": [],
   "source": []
  }
 ],
 "metadata": {
  "kernelspec": {
   "display_name": "Python [default]",
   "language": "python",
   "name": "python3"
  },
  "language_info": {
   "codemirror_mode": {
    "name": "ipython",
    "version": 3
   },
   "file_extension": ".py",
   "mimetype": "text/x-python",
   "name": "python",
   "nbconvert_exporter": "python",
   "pygments_lexer": "ipython3",
   "version": "3.5.6"
  }
 },
 "nbformat": 4,
 "nbformat_minor": 2
}
