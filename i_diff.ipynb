{
 "cells": [
  {
   "cell_type": "code",
   "execution_count": 1,
   "metadata": {},
   "outputs": [],
   "source": [
    "import numpy as np\n",
    "import matplotlib.pyplot as plt\n",
    "from chisq import EclipseFit"
   ]
  },
  {
   "cell_type": "code",
   "execution_count": 2,
   "metadata": {},
   "outputs": [],
   "source": [
    "fit = EclipseFit('5095')\n",
    "# planet phase shouldn't matter, so I don't compute it correctly\n",
    "tp = 158.9\n",
    "# Orbital solution from Borkovits et al. 2016, assuming equal mass binary\n",
    "borko = [18.61196, 66.8735, np.radians(86), 0.05, np.radians(270),\n",
    "         236.26, tp, 0.071*np.cos(np.radians(324)), 0.071*np.sin(np.radians(324)), np.radians(73), np.radians(39),\n",
    "         1.0, 1.0, 0.018, 0.0, 0.0, 0.0]\n",
    "\n",
    "# Orbital solution from Getley et al. 2017\n",
    "getley = [18.61196, 66.8735, np.radians(80), 0.246, np.radians(22.82),\n",
    "          237.70817, tp, 0.0604*np.cos(np.radians(27.67)), 0.0604*np.sin(np.radians(27.67)), np.radians(105.92), np.radians(64.19 - 305.54),\n",
    "          1.21, 0.51, 7.698/1047.5, 0.0, 0.0, 0.0]\n",
    "\n",
    "chain : np.ndarray = np.load('mcmc_out/5095_chains_1.npy')\n",
    "prob = np.load('mcmc_out/5095_probs_1.npy')\n",
    "ndim = chain.shape[-1]\n",
    "best_indx = prob.flatten()[np.nonzero(prob.flatten())].argmax()\n",
    "us = chain.reshape(-1, ndim)[best_indx].copy()"
   ]
  },
  {
   "cell_type": "code",
   "execution_count": 5,
   "metadata": {},
   "outputs": [
    {
     "name": "stdout",
     "output_type": "stream",
     "text": [
      "0.26980654389742464\n",
      "-0.5294049935872065\n",
      "0.00033858282032339177\n"
     ]
    }
   ],
   "source": [
    "def i_diff(x):\n",
    "    sim = fit.set_up_sim(x)\n",
    "    sim.integrate(66.87)\n",
    "    i_initial = sim.particles[1].inc\n",
    "    sim.integrate(1433.12)\n",
    "    i_final = sim.particles[1].inc\n",
    "    return np.degrees(i_final - i_initial)\n",
    "\n",
    "print(i_diff(getley))\n",
    "print(i_diff(borko))\n",
    "print(i_diff(us))"
   ]
  },
  {
   "cell_type": "code",
   "execution_count": 4,
   "metadata": {},
   "outputs": [
    {
     "data": {
      "text/plain": [
       "Text(0, 0.5, 'Impact parameter')"
      ]
     },
     "execution_count": 4,
     "metadata": {},
     "output_type": "execute_result"
    },
    {
     "data": {
      "image/png": "[encoded data removed]",
      "text/plain": [
       "<Figure size 432x288 with 1 Axes>"
      ]
     },
     "metadata": {
      "needs_background": "light"
     },
     "output_type": "display_data"
    }
   ],
   "source": [
    "ecl_model, rv_model = fit.get_residuals(np.array(getley))\n",
    "ax = ecl_model['A'].plot('model_t', 'model_b', label='Getley')\n",
    "ecl_model, rv_model = fit.get_residuals(np.array(borko))\n",
    "ecl_model['A'].plot('model_t', 'model_b', ax=ax, label='Borkovits')\n",
    "ecl_model, rv_model = fit.get_residuals(np.array(us))\n",
    "ecl_model['A'].plot('model_t', 'model_b', ax=ax, label='Our model')\n",
    "plt.xlabel('Time (BJD-254900)')\n",
    "plt.ylabel('Impact parameter')"
   ]
  },
  {
   "cell_type": "code",
   "execution_count": null,
   "metadata": {},
   "outputs": [],
   "source": []
  }
 ],
 "metadata": {
  "kernelspec": {
   "display_name": "Python 3.9.12 ('base')",
   "language": "python",
   "name": "python3"
  },
  "language_info": {
   "codemirror_mode": {
    "name": "ipython",
    "version": 3
   },
   "file_extension": ".py",
   "mimetype": "text/x-python",
   "name": "python",
   "nbconvert_exporter": "python",
   "pygments_lexer": "ipython3",
   "version": "3.9.16 (main, Jan 11 2023, 16:05:54) \n[GCC 11.2.0]"
  },
  "vscode": {
   "interpreter": {
    "hash": "201f1b4038dffb4c6751655281afe604dea13cfaed561b9843a99ea909229d43"
   }
  }
 },
 "nbformat": 4,
 "nbformat_minor": 2
}
