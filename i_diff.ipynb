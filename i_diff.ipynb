{
 "cells": [
  {
   "cell_type": "code",
   "execution_count": 1,
   "metadata": {},
   "outputs": [],
   "source": [
    "import numpy as np\n",
    "import matplotlib.pyplot as plt\n",
    "from chisq import EclipseFit\n",
    "from etv_plots import nice_units, pretty_print, Plotter"
   ]
  },
  {
   "cell_type": "code",
   "execution_count": 8,
   "metadata": {},
   "outputs": [],
   "source": [
    "fit = EclipseFit('5095')\n",
    "plot = Plotter('5095')\n",
    "# planet phase shouldn't matter, so I don't compute it correctly\n",
    "tp = 158.9\n",
    "# Orbital solution from Borkovits et al. 2016, assuming equal mass binary\n",
    "borko = [18.61196, 66.8735, np.radians(86), 0.05, np.radians(270),\n",
    "         236.26, tp, 0.071*np.cos(np.radians(324)), 0.071*np.sin(np.radians(324)), np.radians(73), np.radians(39),\n",
    "         1.0, 1.0, 0.018, 0.0, 0.0, 0.0]\n",
    "\n",
    "# Orbital solution from Getley et al. 2017\n",
    "getley = [18.61196, 66.8735, np.radians(80), 0.246, np.radians(22.82),\n",
    "          237.70817, tp, 0.0604*np.cos(np.radians(27.67)), 0.0604*np.sin(np.radians(27.67)), np.radians(105.92), np.radians(64.19 - 305.54),\n",
    "          1.21, 0.51, 7.698/1047.5, 0.0, 0.0, 0.0]\n",
    "\n",
    "us = [1.86108497e+01,  6.68620090e+01,  1.49348963,  4.85545154e-01,\n",
    "        1.88836321,  2.39492268e+02,  9.59231349e+01,  3.76196043e-02,\n",
    "       -4.03076285e-02,  1.45670131,  5.95255280e-03,  1.08866205,\n",
    "        1.03721400,  4.58337407e-03,  0.0,  4.51538223,\n",
    "        77.5036519]"
   ]
  },
  {
   "cell_type": "code",
   "execution_count": 10,
   "metadata": {},
   "outputs": [
    {
     "name": "stdout",
     "output_type": "stream",
     "text": [
      "0.2828956941407211\n",
      "-0.566613450431395\n",
      "0.0002840530050158147\n"
     ]
    }
   ],
   "source": [
    "def i_diff(x):\n",
    "    sim = fit.set_up_sim(x)\n",
    "    sim.integrate(66.87)\n",
    "    i_initial = sim.particles[1].inc\n",
    "    sim.integrate(1500)\n",
    "    i_final = sim.particles[1].inc\n",
    "    return np.degrees(i_final - i_initial)\n",
    "\n",
    "print(i_diff(getley))\n",
    "print(i_diff(borko))\n",
    "print(i_diff(us))"
   ]
  },
  {
   "cell_type": "code",
   "execution_count": 16,
   "metadata": {},
   "outputs": [
    {
     "data": {
      "text/plain": [
       "<matplotlib.axes._subplots.AxesSubplot at 0x7f86a2d7f190>"
      ]
     },
     "execution_count": 16,
     "metadata": {},
     "output_type": "execute_result"
    },
    {
     "data": {
      "image/png": "[encoded data removed]",
      "text/plain": [
       "<Figure size 432x288 with 1 Axes>"
      ]
     },
     "metadata": {
      "needs_background": "light"
     },
     "output_type": "display_data"
    }
   ],
   "source": [
    "ecl_model, rv_model = fit.get_residuals(np.array(getley))\n",
    "ax = ecl_model['A'].plot('model_t', 'model_b')\n",
    "ecl_model, rv_model = fit.get_residuals(np.array(borko))\n",
    "ecl_model['A'].plot('model_t', 'model_b', ax=ax)\n",
    "ecl_model, rv_model = fit.get_residuals(np.array(us))\n",
    "ecl_model['A'].plot('model_t', 'model_b', ax=ax)"
   ]
  },
  {
   "cell_type": "code",
   "execution_count": 13,
   "metadata": {
    "scrolled": false
   },
   "outputs": [
    {
     "name": "stderr",
     "output_type": "stream",
     "text": [
      "/home/max/anaconda3/lib/python3.7/site-packages/ipykernel_launcher.py:5: FutureWarning: `rcond` parameter will change to the default of machine precision times ``max(M, N)`` where M and N are the input matrix dimensions.\n",
      "To use the future default and silence this warning we advise to pass `rcond=None`, to keep using the old, explicitly pass `rcond=-1`.\n",
      "  \"\"\"\n"
     ]
    },
    {
     "data": {
      "text/plain": [
       "(array([1.27852713e+00, 9.94783644e-07, 1.22424390e-04, 3.77524972e-04]),\n",
       " array([1.79457223e-05]),\n",
       " 4,\n",
       " array([2.77196444e+04, 9.70577326e+00, 9.68439098e+00, 6.84998376e+00]))"
      ]
     },
     "execution_count": 13,
     "metadata": {},
     "output_type": "execute_result"
    }
   ],
   "source": [
    "# test sinusoidal fit\n",
    "\n",
    "a = np.vstack((np.ones_like(ecl_model['A']['model_t']),\n",
    "             ecl_model['A']['model_t'],\n",
    "             np.sin(2*np.pi*ecl_model['A']['model_t']/118.845), \n",
    "             np.cos(2*np.pi*ecl_model['A']['model_t']/118.845))).T\n",
    "np.linalg.lstsq(a, ecl_model['A']['model_b'])"
   ]
  },
  {
   "cell_type": "code",
   "execution_count": null,
   "metadata": {},
   "outputs": [],
   "source": []
  }
 ],
 "metadata": {
  "kernelspec": {
   "display_name": "Python 3",
   "language": "python",
   "name": "python3"
  },
  "language_info": {
   "codemirror_mode": {
    "name": "ipython",
    "version": 3
   },
   "file_extension": ".py",
   "mimetype": "text/x-python",
   "name": "python",
   "nbconvert_exporter": "python",
   "pygments_lexer": "ipython3",
   "version": "3.7.5"
  }
 },
 "nbformat": 4,
 "nbformat_minor": 2
}
