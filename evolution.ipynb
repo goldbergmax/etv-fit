{
 "cells": [
  {
   "cell_type": "code",
   "execution_count": 1,
   "metadata": {},
   "outputs": [],
   "source": [
    "import numpy as np\n",
    "import matplotlib.pyplot as plt\n",
    "from etv_plots import Plotter\n",
    "from cbp_utils import im, g1, h, prec_timescale"
   ]
  },
  {
   "cell_type": "code",
   "execution_count": null,
   "metadata": {},
   "outputs": [],
   "source": [
    "system = '5095'\n",
    "plot = Plotter(system)"
   ]
  },
  {
   "cell_type": "code",
   "execution_count": null,
   "metadata": {},
   "outputs": [],
   "source": [
    "chain : np.ndarray = np.load('mcmc_out/' + system + '_chains_2.npy')\n",
    "prob = np.load('mcmc_out/' + system + '_probs_2.npy')\n",
    "ndim = chain.shape[-1]\n",
    "best_indx = prob.flatten()[np.nonzero(prob.flatten())].argmax()\n",
    "print('Best chi-squared:', -2*prob.flatten()[best_indx])\n",
    "x = chain.reshape(-1, ndim)[best_indx].copy()\n",
    "x[14] *= 2"
   ]
  },
  {
   "cell_type": "code",
   "execution_count": null,
   "metadata": {},
   "outputs": [],
   "source": [
    "sim = plot.set_up_sim(x)\n",
    "N = 1000\n",
    "prec = np.zeros((N,6))\n",
    "ts = np.linspace(0, 1600, N)\n",
    "for i in range(N):\n",
    "    sim.integrate(ts[i])\n",
    "    prec[i,0] = ts[i]\n",
    "    prec[i,1] = sim.particles[1].inc\n",
    "    prec[i,2] = sim.particles[2].a\n",
    "    prec[i,3] = sim.particles[2].e\n",
    "    prec[i,4] = sim.particles[1].omega\n",
    "#plt.plot(prec[...,0], np.degrees(prec[...,1]))\n",
    "prec[...,5] = prec[...,2]*(1 - prec[...,3]**2)/(1 + prec[...,3]*np.sin(prec[...,4])) * np.cos(prec[...,1])/(1.2*0.00465)\n",
    "plt.plot(prec[...,0], np.degrees(prec[...,4]))\n",
    "plt.ylabel('$\\omega_1$'); plt.xlabel('Time (days)')"
   ]
  },
  {
   "cell_type": "code",
   "execution_count": null,
   "metadata": {},
   "outputs": [],
   "source": [
    "labels = ['$P_1$', '$T_{01}$', '$i_1$', '$e_1$', '$\\omega_1$',\n",
    "            '$P_2$', '$T_{p2}$', '$e_2\\cos\\omega_2$', '$e_2\\sin\\omega_2$', '$i_2$', '$\\Omega_2$',\n",
    "            '$M_A$', '$M_B$', '$M_p$', '$\\gamma_{NOT}$', '$\\gamma_{CAHA}$']"
   ]
  },
  {
   "cell_type": "code",
   "execution_count": null,
   "metadata": {},
   "outputs": [],
   "source": [
    "sim = plot.set_up_sim(x)\n",
    "N = 1000\n",
    "prec = np.zeros((N,7))\n",
    "T_prec = prec_timescale(x[0], x[5], x[3], np.sqrt(x[7]**2 + x[8]**2), im(x[2], x[9], x[10]), g1(x[2], x[9], x[10], x[4]), x[11], x[12])\n",
    "print(T_prec)\n",
    "ts = np.linspace(0, T_prec, N)\n",
    "for i in range(N):\n",
    "    sim.integrate(ts[i])\n",
    "    prec[i,0] = ts[i]\n",
    "    prec[i,1] = sim.particles[1].inc\n",
    "    prec[i,2] = sim.particles[2].inc\n",
    "    prec[i,3] = sim.particles[2].Omega - sim.particles[1].Omega\n",
    "    prec[i,4] = sim.particles[1].omega\n",
    "    prec[i,5] = sim.particles[2].e\n",
    "    prec[i,6] = sim.particles[2].omega"
   ]
  },
  {
   "cell_type": "code",
   "execution_count": null,
   "metadata": {},
   "outputs": [],
   "source": [
    "fig, ax1 = plt.subplots()\n",
    "ax1.plot(prec[...,0]/365.25, np.degrees(im(*prec[...,1:4].T)), color='k', label='$i_m$')\n",
    "ax1.plot(prec[...,0]/365.25, np.degrees(g1(*prec[...,1:5].T)), color='r', label='$g_1$')\n",
    "ax1.legend()\n",
    "ax1.set_xlabel('Time (years)'); ax1.set_ylabel('Angle (degrees)')"
   ]
  },
  {
   "cell_type": "code",
   "execution_count": null,
   "metadata": {},
   "outputs": [],
   "source": [
    "fig, ax = plt.subplots(subplot_kw=dict(projection='polar'), figsize=(16,9))\n",
    "azimuths = np.radians(np.linspace(0, 360, 180))\n",
    "zeniths = np.linspace(0,180,180)\n",
    "r, theta = np.meshgrid(zeniths, azimuths)\n",
    "values = h(np.radians(r), theta, x[3])\n",
    "ax.contour(theta, r, values, 15)\n",
    "ax.plot(np.linspace(0, 2*np.pi, 100), 90.0*np.ones(100), color='k', linestyle='--')\n",
    "ax.set_yticklabels([])\n",
    "ax.set_ylim(0, 180)\n",
    "ax.grid(False)\n",
    "mask = prob < 1000\n",
    "#ax.scatter(g1(chain[...,2], chain[...,9], chain[...,10], chain[...,4])[mask].flatten(), \n",
    "#           np.degrees(im(chain[...,2], chain[...,9], chain[...,10]))[mask].flatten(), \n",
    "#           marker='.', color='k')\n",
    "plt.plot(g1(*prec[...,1:5].T), np.degrees(im(*prec[...,1:4].T)), c='k')\n",
    "#plt.plot(np.linspace(0, 2*np.pi, 100), np.array(100*[37.76]))\n",
    "#plt.savefig('fl level curves.png', dpi='figure')"
   ]
  },
  {
   "cell_type": "code",
   "execution_count": null,
   "metadata": {},
   "outputs": [],
   "source": []
  }
 ],
 "metadata": {
  "kernelspec": {
   "display_name": "base",
   "language": "python",
   "name": "python3"
  },
  "language_info": {
   "codemirror_mode": {
    "name": "ipython",
    "version": 3
   },
   "file_extension": ".py",
   "mimetype": "text/x-python",
   "name": "python",
   "nbconvert_exporter": "python",
   "pygments_lexer": "ipython3",
   "version": "3.9.16"
  },
  "orig_nbformat": 4
 },
 "nbformat": 4,
 "nbformat_minor": 2
}
